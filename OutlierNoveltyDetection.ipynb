{
 "cells": [
  {
   "cell_type": "code",
   "execution_count": 1,
   "id": "c37a07c4-c34b-40f0-8d06-6b201d7be66b",
   "metadata": {},
   "outputs": [],
   "source": [
    "import pandas as pd\n",
    "import numpy as np\n",
    "import matplotlib.pyplot as plt"
   ]
  },
  {
   "cell_type": "markdown",
   "id": "d2e2cf42-086a-4dfd-976c-176906864b26",
   "metadata": {},
   "source": [
    "## Outlier Detection"
   ]
  },
  {
   "cell_type": "code",
   "execution_count": null,
   "id": "f8e1a1e4-7b4a-4e75-990d-0d69fce5cf1d",
   "metadata": {},
   "outputs": [],
   "source": [
    "df = pd.read_csv('datasets/student_performance.csv')\n",
    "\n",
    "df.sample(5)"
   ]
  },
  {
   "cell_type": "code",
   "execution_count": null,
   "id": "7913d69f-c337-4e3c-ae8a-d291e3b20b1e",
   "metadata": {},
   "outputs": [],
   "source": [
    "fix, ax = plt.subplots(figsize=(20,10))\n",
    "\n",
    "plt.scatter(df['Hours Studied'],\n",
    "            df['Score Obtained'],\n",
    "            color='black',\n",
    "            s=100)\n",
    "\n",
    "ax.set(xlabel='Hours Studied',\n",
    "       ylabel='Score Obtained',\n",
    "       title='Students Performance')\n",
    "\n",
    "ax.grid()\n",
    "plt.show()"
   ]
  },
  {
   "cell_type": "code",
   "execution_count": null,
   "id": "8ad5e4f7-723e-4b6b-a6f6-2516d72d2fb8",
   "metadata": {},
   "outputs": [],
   "source": [
    "df.groupby('Outliers').size()"
   ]
  },
  {
   "cell_type": "code",
   "execution_count": null,
   "id": "9028127c-e622-48d7-822c-9354c443e038",
   "metadata": {},
   "outputs": [],
   "source": [
    "X = df.drop('Outliers', axis=1)\n",
    "X.head()"
   ]
  },
  {
   "cell_type": "code",
   "execution_count": 4,
   "id": "9f1ce7c9-9b0f-43ac-9a7b-ec8bea54ced6",
   "metadata": {},
   "outputs": [],
   "source": [
    "# Local Outlier Factor Method\n",
    "\n",
    "from sklearn.neighbors import LocalOutlierFactor"
   ]
  },
  {
   "cell_type": "code",
   "execution_count": 3,
   "id": "c83ca9f3-7ebc-41e9-8e0a-92379a570987",
   "metadata": {},
   "outputs": [],
   "source": [
    "lof = LocalOutlierFactor(n_neighbors=20,\n",
    "                         contamination=0.2)"
   ]
  },
  {
   "cell_type": "code",
   "execution_count": null,
   "id": "f7aee3d0-3028-416b-9c1e-016de312c199",
   "metadata": {},
   "outputs": [],
   "source": [
    "y_pred = lof.fit_predict(X)\n",
    "y_pred"
   ]
  },
  {
   "cell_type": "code",
   "execution_count": null,
   "id": "393a9d8d-5be3-4c6d-be84-e49f572b615d",
   "metadata": {},
   "outputs": [],
   "source": [
    "n_outliers = (y_pred == -1).sum()\n",
    "n_outliers"
   ]
  },
  {
   "cell_type": "code",
   "execution_count": null,
   "id": "787d3622-5dac-410b-9d0b-1baa61cf860f",
   "metadata": {},
   "outputs": [],
   "source": [
    "colors = np.array(['r', 'b'])\n",
    "plt.figure(figsize=(12, 10))\n",
    "\n",
    "plt.title('Local Outlier Factor', size=18)\n",
    "\n",
    "plt.scatter(df['Hours Studied'],\n",
    "            df['Score Obtained'],\n",
    "            s=100,\n",
    "            color=colors[(y_pred + 1) // 2])\n",
    "\n",
    "plt.show()"
   ]
  },
  {
   "cell_type": "code",
   "execution_count": null,
   "id": "97982173-83c3-4807-8a39-ab9caebd10cf",
   "metadata": {},
   "outputs": [],
   "source": [
    "X_scores = lof.negative_outlier_factor_\n",
    "\n",
    "X_scores"
   ]
  },
  {
   "cell_type": "code",
   "execution_count": null,
   "id": "a58290bd-b90a-4df9-a3dc-86c72850ce64",
   "metadata": {},
   "outputs": [],
   "source": [
    "radius = (X_scores.max() - X_scores) / (X_scores.max() - X_scores.min())"
   ]
  },
  {
   "cell_type": "code",
   "execution_count": null,
   "id": "dd1fead0-6236-4ae6-8dda-41eed12bf878",
   "metadata": {},
   "outputs": [],
   "source": [
    "plt.figure(figsize=(12,10))\n",
    "\n",
    "plt.scatter(df['Hours Studied'],\n",
    "            df['Score Obtained'],\n",
    "            s=1000*radius,\n",
    "            edgecolors='r',\n",
    "            facecolors='none',\n",
    "            label='Outlier scores')\n",
    "\n",
    "plt.show()"
   ]
  },
  {
   "cell_type": "code",
   "execution_count": 6,
   "id": "9ba7fba6-4424-417f-b094-be4e1d26a8d0",
   "metadata": {},
   "outputs": [],
   "source": [
    "# Isolation Forest Method\n",
    "\n",
    "from sklearn.ensemble import IsolationForest"
   ]
  },
  {
   "cell_type": "code",
   "execution_count": 8,
   "id": "2cd6a1cf-ac49-49e6-8e09-a0f5ff8a212c",
   "metadata": {},
   "outputs": [],
   "source": [
    "isf = IsolationForest(contamination=0.19)"
   ]
  },
  {
   "cell_type": "code",
   "execution_count": null,
   "id": "a39f5628-7b4f-4ada-b774-8e30bb76c6b4",
   "metadata": {},
   "outputs": [],
   "source": [
    "y_pred = isf.fit_predict(X)\n",
    "y_pred"
   ]
  },
  {
   "cell_type": "code",
   "execution_count": null,
   "id": "0ed51ec9-be88-447e-a6b3-57ce42aa7009",
   "metadata": {},
   "outputs": [],
   "source": [
    "n_outliers = (y_pred == -1).sum()\n",
    "n_outliers"
   ]
  },
  {
   "cell_type": "code",
   "execution_count": null,
   "id": "0f5b0f11-ea76-419c-b0ab-2754379255ea",
   "metadata": {},
   "outputs": [],
   "source": [
    "colors = np.array(['r', 'b'])\n",
    "plt.figure(figsize=(12, 10))\n",
    "\n",
    "plt.title('Isolation Forest Predictions', size=18)\n",
    "\n",
    "plt.scatter(df['Hours Studied'],\n",
    "            df['Score Obtained'],\n",
    "            s=100,\n",
    "            color=colors[(y_pred + 1) // 2])\n",
    "\n",
    "plt.show()"
   ]
  },
  {
   "cell_type": "code",
   "execution_count": null,
   "id": "85300ab9-b2b0-4031-9d9f-578646e0e0ca",
   "metadata": {},
   "outputs": [],
   "source": [
    "xx, yy = np.meshgrid(np.linspace(0, 1010, 500),\n",
    "                     np.linspace(0, 102, 500))\n",
    "\n",
    "print('xx = ', xx.ravel())\n",
    "print('yy = ', yy.ravel())"
   ]
  },
  {
   "cell_type": "code",
   "execution_count": null,
   "id": "88ad9398-293b-44a0-a38e-e64178475233",
   "metadata": {},
   "outputs": [],
   "source": [
    "np.c_[xx.ravel(), yy.ravel()]"
   ]
  },
  {
   "cell_type": "code",
   "execution_count": null,
   "id": "e41eabda-1265-4fad-b12b-3547af7e71bd",
   "metadata": {},
   "outputs": [],
   "source": [
    "Z = isf.predict(np.c_[xx.ravel(), yy.ravel()])\n",
    "Z = Z.reshape(xx.shape)\n",
    "Z"
   ]
  },
  {
   "cell_type": "code",
   "execution_count": null,
   "id": "5774b48a-67ae-41f8-a0a5-b75e6fb4904d",
   "metadata": {},
   "outputs": [],
   "source": [
    "plt.figure(figsize=(12, 10))\n",
    "\n",
    "plt.title('IsolationForest', size=18)\n",
    "\n",
    "plt.scatter(df['Hours Studied'],\n",
    "            df['Score Obtained'],\n",
    "            s=100,\n",
    "            color=colors[(y_pred + 1) // 2])\n",
    "\n",
    "plt.contour(xx, yy, Z,\n",
    "            levels=[0],\n",
    "            linewidths=2,\n",
    "            colors='black')\n",
    "\n",
    "plt.show()"
   ]
  },
  {
   "cell_type": "code",
   "execution_count": 9,
   "id": "4480bf23-4bc3-4fc4-841d-ff205a93c8a2",
   "metadata": {},
   "outputs": [],
   "source": [
    "# Elliptic Envelope Method\n",
    "from sklearn.covariance import EllipticEnvelope"
   ]
  },
  {
   "cell_type": "code",
   "execution_count": 10,
   "id": "8f1863fc-51ab-4279-bab2-003037a20931",
   "metadata": {},
   "outputs": [],
   "source": [
    "ee = EllipticEnvelope(support_fraction=1., contamination=0.19)"
   ]
  },
  {
   "cell_type": "code",
   "execution_count": null,
   "id": "11005fdb-0480-41b0-80a9-e5be36b50bf1",
   "metadata": {},
   "outputs": [],
   "source": [
    "y_pred = ee.fit_predict(X)\n",
    "y_pred"
   ]
  },
  {
   "cell_type": "code",
   "execution_count": null,
   "id": "84c2d430-b023-49ac-a2d9-c0b63253a59c",
   "metadata": {},
   "outputs": [],
   "source": [
    "n_outliers = (y_pred == -1).sum()\n",
    "n_outliers"
   ]
  },
  {
   "cell_type": "code",
   "execution_count": null,
   "id": "0d9a06e2-6b0f-4c92-994a-dcc4e7073b60",
   "metadata": {},
   "outputs": [],
   "source": [
    "xx, yy = np.meshgrid(np.linspace(0, 1010, 500),\n",
    "                     np.linspace(-5, 120, 500))\n",
    "\n",
    "Z = ee.predict(np.c_[xx.ravel(), yy.ravel()])\n",
    "Z = Z.reshape(xx.shape)"
   ]
  },
  {
   "cell_type": "code",
   "execution_count": null,
   "id": "51c61c00-5a9d-4aad-868a-d440629eb563",
   "metadata": {},
   "outputs": [],
   "source": [
    "plt.figure(figsize=(12, 10))\n",
    "\n",
    "plt.title('Elliptic Envelope', size=18)\n",
    "\n",
    "plt.scatter(df['Hours Studied'],\n",
    "            df['Score Obtained'],\n",
    "            s=100,\n",
    "            color=colors[(y_pred + 1) // 2])\n",
    "\n",
    "plt.contour(xx, yy, Z,\n",
    "            levels=[0],\n",
    "            linewidths=2,\n",
    "            colors='black')\n",
    "\n",
    "plt.show()"
   ]
  },
  {
   "cell_type": "markdown",
   "id": "2948fa58-7eb6-4dbf-abc1-6c0461eca3ae",
   "metadata": {},
   "source": [
    "## Novelty Detection"
   ]
  },
  {
   "cell_type": "code",
   "execution_count": null,
   "id": "3a3eb392-5bdb-44d2-af8a-60040619b464",
   "metadata": {},
   "outputs": [],
   "source": []
  }
 ],
 "metadata": {
  "kernelspec": {
   "display_name": "scilib",
   "language": "python",
   "name": "scilib"
  },
  "language_info": {
   "codemirror_mode": {
    "name": "ipython",
    "version": 3
   },
   "file_extension": ".py",
   "mimetype": "text/x-python",
   "name": "python",
   "nbconvert_exporter": "python",
   "pygments_lexer": "ipython3",
   "version": "3.11.4"
  }
 },
 "nbformat": 4,
 "nbformat_minor": 5
}
