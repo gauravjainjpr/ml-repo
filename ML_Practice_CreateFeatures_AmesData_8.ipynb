{
 "cells": [
  {
   "cell_type": "code",
   "execution_count": 1,
   "id": "9f243eb7-c5a3-4571-99c0-08fc49e12927",
   "metadata": {},
   "outputs": [],
   "source": [
    "import numpy as np\n",
    "import pandas as pd\n",
    "from sklearn.model_selection import cross_val_score\n",
    "from xgboost import XGBRegressor\n",
    "\n",
    "\n",
    "def score_dataset(X, y, model=XGBRegressor()):\n",
    "    # Label encoding for categoricals\n",
    "    for colname in X.select_dtypes([\"category\", \"object\"]):\n",
    "        X[colname], _ = X[colname].factorize()\n",
    "    # Metric for Housing competition is RMSLE (Root Mean Squared Log Error)\n",
    "    score = cross_val_score(\n",
    "        model, X, y, cv=5, scoring=\"neg_mean_squared_log_error\",\n",
    "    )\n",
    "    score = -1 * score.mean()\n",
    "    score = np.sqrt(score)\n",
    "    return score\n",
    "\n",
    "\n",
    "# Prepare data\n",
    "df = pd.read_csv(\"datasets/ames.csv\")\n",
    "X = df.copy()\n",
    "y = X.pop(\"SalePrice\")"
   ]
  },
  {
   "cell_type": "markdown",
   "id": "bdeb8707-03ad-4200-b95e-6cfc1e2ef845",
   "metadata": {},
   "source": [
    "# 1) Create Mathematical Transforms"
   ]
  },
  {
   "cell_type": "code",
   "execution_count": 2,
   "id": "cfc9a55e-0710-442d-bedf-77ebc64760c7",
   "metadata": {},
   "outputs": [],
   "source": [
    "# YOUR CODE HERE\n",
    "X_1 = pd.DataFrame()  # dataframe to hold new features\n",
    "\n",
    "X_1[\"LivLotRatio\"] = X['GrLivArea']/X['LotArea']\n",
    "X_1[\"Spaciousness\"] = (X['FirstFlrSF'] + X['SecondFlrSF'])/X['TotRmsAbvGrd']\n",
    "X_1[\"TotalOutsideSF\"] = X['WoodDeckSF']+X['OpenPorchSF']+X['EnclosedPorch']+X['Threeseasonporch']+X['ScreenPorch']"
   ]
  },
  {
   "cell_type": "markdown",
   "id": "9f57997e-4b5a-4bd9-b17d-753c05676745",
   "metadata": {},
   "source": [
    "# 2) Interaction with a Categorical"
   ]
  },
  {
   "cell_type": "code",
   "execution_count": 3,
   "id": "8cbf9648-564d-4389-bc5a-376eac1a3479",
   "metadata": {},
   "outputs": [],
   "source": [
    "# One-hot encode BldgType. Use `prefix=\"Bldg\"` in `get_dummies`\n",
    "X_2 = pd.get_dummies(X.BldgType, prefix='Bldg')\n",
    "# Multiply\n",
    "X_2 = X_2.mul(X.GrLivArea, axis=0)"
   ]
  },
  {
   "cell_type": "markdown",
   "id": "73c832d7-b6a9-4dca-b38c-1cc91ad1383d",
   "metadata": {},
   "source": [
    "# 3) Count Feature"
   ]
  },
  {
   "cell_type": "code",
   "execution_count": 4,
   "id": "9d3377dd-a2ed-40b7-82d0-de94f1235010",
   "metadata": {},
   "outputs": [],
   "source": [
    "X_3 = pd.DataFrame()\n",
    "\n",
    "# YOUR CODE HERE\n",
    "features = ['WoodDeckSF','OpenPorchSF','EnclosedPorch','Threeseasonporch','ScreenPorch']\n",
    "X_3[\"PorchTypes\"] = X[features].gt(0).sum(axis=1)"
   ]
  },
  {
   "cell_type": "markdown",
   "id": "a161b3b3-0c56-4148-83c5-1294512152ee",
   "metadata": {},
   "source": [
    "# 4) Break Down a Categorical Feature"
   ]
  },
  {
   "cell_type": "code",
   "execution_count": 5,
   "id": "44da720a-2d07-4ba5-9ff4-5fa8790d466d",
   "metadata": {},
   "outputs": [
    {
     "data": {
      "text/plain": [
       "array(['One_Story_1946_and_Newer_All_Styles', 'Two_Story_1946_and_Newer',\n",
       "       'One_Story_PUD_1946_and_Newer',\n",
       "       'One_and_Half_Story_Finished_All_Ages', 'Split_Foyer',\n",
       "       'Two_Story_PUD_1946_and_Newer', 'Split_or_Multilevel',\n",
       "       'One_Story_1945_and_Older', 'Duplex_All_Styles_and_Ages',\n",
       "       'Two_Family_conversion_All_Styles_and_Ages',\n",
       "       'One_and_Half_Story_Unfinished_All_Ages',\n",
       "       'Two_Story_1945_and_Older', 'Two_and_Half_Story_All_Ages',\n",
       "       'One_Story_with_Finished_Attic_All_Ages',\n",
       "       'PUD_Multilevel_Split_Level_Foyer',\n",
       "       'One_and_Half_Story_PUD_All_Ages'], dtype=object)"
      ]
     },
     "execution_count": 5,
     "metadata": {},
     "output_type": "execute_result"
    }
   ],
   "source": [
    "df.MSSubClass.unique()"
   ]
  },
  {
   "cell_type": "code",
   "execution_count": 6,
   "id": "b8d3a1ef-e39c-4d27-a7af-9dc4af2dbf34",
   "metadata": {},
   "outputs": [],
   "source": [
    "X_4 = pd.DataFrame()\n",
    "\n",
    "# YOUR CODE HERE\n",
    "X_4['MSClass'] = X['MSSubClass'].str.split('_', n=1, expand=True)[0]"
   ]
  },
  {
   "cell_type": "markdown",
   "id": "fe66f947-f05d-4269-9e11-e39de9f5003b",
   "metadata": {},
   "source": [
    "# 5) Use a Grouped Transform"
   ]
  },
  {
   "cell_type": "code",
   "execution_count": 7,
   "id": "e6030365-fb33-44e7-8f92-038066d141ee",
   "metadata": {},
   "outputs": [],
   "source": [
    "X_5 = pd.DataFrame()\n",
    "\n",
    "# YOUR CODE HERE\n",
    "X_5[\"MedNhbdArea\"] = X.groupby('Neighborhood')['GrLivArea'].transform('median')"
   ]
  },
  {
   "cell_type": "code",
   "execution_count": 8,
   "id": "cb9797f3-cb39-430c-8dae-301425753ea3",
   "metadata": {},
   "outputs": [
    {
     "data": {
      "text/plain": [
       "0.13954039591355258"
      ]
     },
     "execution_count": 8,
     "metadata": {},
     "output_type": "execute_result"
    }
   ],
   "source": [
    "X_new = X.join([X_1, X_2, X_3, X_4, X_5])\n",
    "score_dataset(X_new, y)"
   ]
  },
  {
   "cell_type": "code",
   "execution_count": null,
   "id": "312f076c-f6b1-4e68-86be-655d8b4a6e0b",
   "metadata": {},
   "outputs": [],
   "source": []
  }
 ],
 "metadata": {
  "kernelspec": {
   "display_name": "scilib",
   "language": "python",
   "name": "scilib"
  },
  "language_info": {
   "codemirror_mode": {
    "name": "ipython",
    "version": 3
   },
   "file_extension": ".py",
   "mimetype": "text/x-python",
   "name": "python",
   "nbconvert_exporter": "python",
   "pygments_lexer": "ipython3",
   "version": "3.11.4"
  }
 },
 "nbformat": 4,
 "nbformat_minor": 5
}
