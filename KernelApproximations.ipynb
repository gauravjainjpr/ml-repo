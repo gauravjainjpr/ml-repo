{
 "cells": [
  {
   "cell_type": "markdown",
   "id": "49fb8e31-d277-4464-9937-5a268a8ee657",
   "metadata": {},
   "source": [
    "# Kernel Approximation"
   ]
  },
  {
   "cell_type": "code",
   "execution_count": 1,
   "id": "1c6ac0f1-a79a-42e6-a2ee-020b6528fa46",
   "metadata": {},
   "outputs": [],
   "source": [
    "import sklearn\n",
    "import pandas as pd\n",
    "import numpy as np\n",
    "import matplotlib.pyplot as plt"
   ]
  },
  {
   "cell_type": "code",
   "execution_count": 2,
   "id": "276510ee-cb05-405f-9718-f12d4bb48a37",
   "metadata": {},
   "outputs": [
    {
     "data": {
      "text/html": [
       "<div>\n",
       "<style scoped>\n",
       "    .dataframe tbody tr th:only-of-type {\n",
       "        vertical-align: middle;\n",
       "    }\n",
       "\n",
       "    .dataframe tbody tr th {\n",
       "        vertical-align: top;\n",
       "    }\n",
       "\n",
       "    .dataframe thead th {\n",
       "        text-align: right;\n",
       "    }\n",
       "</style>\n",
       "<table border=\"1\" class=\"dataframe\">\n",
       "  <thead>\n",
       "    <tr style=\"text-align: right;\">\n",
       "      <th></th>\n",
       "      <th>0</th>\n",
       "      <th>1</th>\n",
       "      <th>2</th>\n",
       "      <th>3</th>\n",
       "      <th>4</th>\n",
       "      <th>5</th>\n",
       "      <th>6</th>\n",
       "      <th>7</th>\n",
       "      <th>8</th>\n",
       "      <th>9</th>\n",
       "      <th>...</th>\n",
       "      <th>775</th>\n",
       "      <th>776</th>\n",
       "      <th>777</th>\n",
       "      <th>778</th>\n",
       "      <th>779</th>\n",
       "      <th>780</th>\n",
       "      <th>781</th>\n",
       "      <th>782</th>\n",
       "      <th>783</th>\n",
       "      <th>784</th>\n",
       "    </tr>\n",
       "  </thead>\n",
       "  <tbody>\n",
       "    <tr>\n",
       "      <th>132703</th>\n",
       "      <td>13</td>\n",
       "      <td>0</td>\n",
       "      <td>0</td>\n",
       "      <td>0</td>\n",
       "      <td>0</td>\n",
       "      <td>0</td>\n",
       "      <td>0</td>\n",
       "      <td>0</td>\n",
       "      <td>0</td>\n",
       "      <td>0</td>\n",
       "      <td>...</td>\n",
       "      <td>0</td>\n",
       "      <td>0</td>\n",
       "      <td>0</td>\n",
       "      <td>0</td>\n",
       "      <td>0</td>\n",
       "      <td>0</td>\n",
       "      <td>0</td>\n",
       "      <td>0</td>\n",
       "      <td>0</td>\n",
       "      <td>0</td>\n",
       "    </tr>\n",
       "    <tr>\n",
       "      <th>338134</th>\n",
       "      <td>21</td>\n",
       "      <td>0</td>\n",
       "      <td>0</td>\n",
       "      <td>0</td>\n",
       "      <td>0</td>\n",
       "      <td>0</td>\n",
       "      <td>0</td>\n",
       "      <td>0</td>\n",
       "      <td>0</td>\n",
       "      <td>0</td>\n",
       "      <td>...</td>\n",
       "      <td>0</td>\n",
       "      <td>0</td>\n",
       "      <td>0</td>\n",
       "      <td>0</td>\n",
       "      <td>0</td>\n",
       "      <td>0</td>\n",
       "      <td>0</td>\n",
       "      <td>0</td>\n",
       "      <td>0</td>\n",
       "      <td>0</td>\n",
       "    </tr>\n",
       "    <tr>\n",
       "      <th>73395</th>\n",
       "      <td>6</td>\n",
       "      <td>0</td>\n",
       "      <td>0</td>\n",
       "      <td>0</td>\n",
       "      <td>0</td>\n",
       "      <td>0</td>\n",
       "      <td>0</td>\n",
       "      <td>0</td>\n",
       "      <td>0</td>\n",
       "      <td>0</td>\n",
       "      <td>...</td>\n",
       "      <td>0</td>\n",
       "      <td>0</td>\n",
       "      <td>0</td>\n",
       "      <td>0</td>\n",
       "      <td>0</td>\n",
       "      <td>0</td>\n",
       "      <td>0</td>\n",
       "      <td>0</td>\n",
       "      <td>0</td>\n",
       "      <td>0</td>\n",
       "    </tr>\n",
       "    <tr>\n",
       "      <th>248813</th>\n",
       "      <td>18</td>\n",
       "      <td>0</td>\n",
       "      <td>0</td>\n",
       "      <td>0</td>\n",
       "      <td>0</td>\n",
       "      <td>0</td>\n",
       "      <td>0</td>\n",
       "      <td>0</td>\n",
       "      <td>0</td>\n",
       "      <td>0</td>\n",
       "      <td>...</td>\n",
       "      <td>0</td>\n",
       "      <td>0</td>\n",
       "      <td>0</td>\n",
       "      <td>0</td>\n",
       "      <td>0</td>\n",
       "      <td>0</td>\n",
       "      <td>0</td>\n",
       "      <td>0</td>\n",
       "      <td>0</td>\n",
       "      <td>0</td>\n",
       "    </tr>\n",
       "    <tr>\n",
       "      <th>111337</th>\n",
       "      <td>12</td>\n",
       "      <td>0</td>\n",
       "      <td>0</td>\n",
       "      <td>0</td>\n",
       "      <td>0</td>\n",
       "      <td>0</td>\n",
       "      <td>0</td>\n",
       "      <td>0</td>\n",
       "      <td>0</td>\n",
       "      <td>0</td>\n",
       "      <td>...</td>\n",
       "      <td>0</td>\n",
       "      <td>0</td>\n",
       "      <td>0</td>\n",
       "      <td>0</td>\n",
       "      <td>0</td>\n",
       "      <td>0</td>\n",
       "      <td>0</td>\n",
       "      <td>0</td>\n",
       "      <td>0</td>\n",
       "      <td>0</td>\n",
       "    </tr>\n",
       "  </tbody>\n",
       "</table>\n",
       "<p>5 rows × 785 columns</p>\n",
       "</div>"
      ],
      "text/plain": [
       "        0    1    2    3    4    5    6    7    8    9    ...  775  776  777  \\\n",
       "132703   13    0    0    0    0    0    0    0    0    0  ...    0    0    0   \n",
       "338134   21    0    0    0    0    0    0    0    0    0  ...    0    0    0   \n",
       "73395     6    0    0    0    0    0    0    0    0    0  ...    0    0    0   \n",
       "248813   18    0    0    0    0    0    0    0    0    0  ...    0    0    0   \n",
       "111337   12    0    0    0    0    0    0    0    0    0  ...    0    0    0   \n",
       "\n",
       "        778  779  780  781  782  783  784  \n",
       "132703    0    0    0    0    0    0    0  \n",
       "338134    0    0    0    0    0    0    0  \n",
       "73395     0    0    0    0    0    0    0  \n",
       "248813    0    0    0    0    0    0    0  \n",
       "111337    0    0    0    0    0    0    0  \n",
       "\n",
       "[5 rows x 785 columns]"
      ]
     },
     "execution_count": 2,
     "metadata": {},
     "output_type": "execute_result"
    }
   ],
   "source": [
    "df = pd.read_csv('datasets/A_Z Handwritten Data.csv', header=None)\n",
    "df.sample(5)"
   ]
  },
  {
   "cell_type": "code",
   "execution_count": 3,
   "id": "0b4b9575-4181-4a3c-8104-aca7a0f3bf5a",
   "metadata": {},
   "outputs": [],
   "source": [
    "df_sample = df.sample(frac=0.05).reset_index(drop=True)"
   ]
  },
  {
   "cell_type": "code",
   "execution_count": 4,
   "id": "9b90bce8-4442-4260-a387-1cf421deab03",
   "metadata": {},
   "outputs": [
    {
     "data": {
      "text/plain": [
       "(18623, 785)"
      ]
     },
     "execution_count": 4,
     "metadata": {},
     "output_type": "execute_result"
    }
   ],
   "source": [
    "df_sample.shape"
   ]
  },
  {
   "cell_type": "code",
   "execution_count": 5,
   "id": "39efab8d-ecf9-4263-93cf-376967939b1d",
   "metadata": {},
   "outputs": [
    {
     "data": {
      "text/plain": [
       "array([19, 22,  2, 18, 21,  9, 13, 23, 12,  0,  7, 20, 10, 14, 15, 16,  6,\n",
       "       24, 25,  1, 11,  5, 17,  3,  4,  8])"
      ]
     },
     "execution_count": 5,
     "metadata": {},
     "output_type": "execute_result"
    }
   ],
   "source": [
    "df_sample[0].unique()"
   ]
  },
  {
   "cell_type": "code",
   "execution_count": 6,
   "id": "ae8009b9-6bda-4f6b-8827-206726275f9d",
   "metadata": {},
   "outputs": [],
   "source": [
    "LOOKUP = {0: 'A', 1: 'B', 2: 'C', 3: 'D', 4: 'E',\n",
    "          5: 'F', 6: 'G', 7: 'H', 8: 'I', 9: 'J',\n",
    "          10: 'K', 11: 'L', 12: 'M', 13: 'N', 14: 'O',\n",
    "          15: 'P', 16: 'Q', 17: 'R', 18: 'S', 19: 'T',\n",
    "          20: 'U', 21: 'V', 22: 'W', 23: 'X', 24: 'Y', 25: 'Z'}"
   ]
  },
  {
   "cell_type": "code",
   "execution_count": 7,
   "id": "a64bdbcb-967a-4076-a72b-59a156b3428b",
   "metadata": {},
   "outputs": [],
   "source": [
    "def display_image(features, actual_label):\n",
    "    print('Actual Label: ', LOOKUP[actual_label])\n",
    "    plt.imshow(features.reshape(28, 28), cmap='Greys')\n",
    "    plt.show()"
   ]
  },
  {
   "cell_type": "code",
   "execution_count": 8,
   "id": "2f84f831-3167-41ab-a6a2-a8ef7f9e60b4",
   "metadata": {},
   "outputs": [],
   "source": [
    "X = df_sample[df_sample.columns[1:]]\n",
    "Y = df_sample[0]"
   ]
  },
  {
   "cell_type": "code",
   "execution_count": 9,
   "id": "1e79a5ae-3694-4ca0-ac1c-ad6664474e35",
   "metadata": {},
   "outputs": [
    {
     "data": {
      "text/plain": [
       "9"
      ]
     },
     "execution_count": 9,
     "metadata": {},
     "output_type": "execute_result"
    }
   ],
   "source": [
    "Y.loc[5]"
   ]
  },
  {
   "cell_type": "code",
   "execution_count": 10,
   "id": "98fb4d71-df64-4eb5-b483-f9e5dfd23d73",
   "metadata": {},
   "outputs": [
    {
     "data": {
      "text/plain": [
       "array([  0,   0,   0,   0,   0,   0,   0,   0,   0,   0,   0,   0,   0,\n",
       "         0,   0,   0,   0,   0,   0,   0,   0,   0,   0,   0,   0,   0,\n",
       "         0,  18, 125, 187,  55,   0,   0,   0,   0,   0,   0,   0,   0,\n",
       "         0,   0,   0,   0,   0,   0,   0,   0,   0,   0,   0,   0,   0,\n",
       "         0,   0,   0,  26, 139, 252, 177,  25,   0,   0,   0,   0,   0,\n",
       "         0,   0,   0,   0,   0,   0,   0,   0,   0,   0,   0,   0,   0,\n",
       "         0,   0,   0,   0,   0,  10, 112, 248, 199,  61,   0,   0,   0,\n",
       "         0,   0,   0,   0,   0,   0,   0,   0,   0,   0,   0,   0,   0,\n",
       "         0,   0,   0,   0,   0,   0,   0,   3, 101, 245, 212,  88,   0,\n",
       "         0,   0,   0,   0,   0,   0,   0,   0,   0,   0,   0,   0,   0,\n",
       "         0,   0,   0,   0,   0,   0,   0,   0,   0,   0,  67, 198, 212,\n",
       "        88,   0,   0,   0,   0,   0,   0,   0,   0,   0,   0,   0,   0,\n",
       "         0,   0,   0,   0,   0,   0,   0,   0,   0,   0,   0,   0,  65,\n",
       "       195, 213,  91,   0,   0,   0,   0,   0,   0,   0,   0,   0,   0,\n",
       "         0,   0,   0,   0,   0,   0,   0,   0,   0,   0,   0,   0,   0,\n",
       "         0,  42, 159, 245, 161,   7,   0,   0,   0,   0,   0,   0,   0,\n",
       "         0,   0,   0,   0,   0,   0,   0,   0,   0,   0,   0,   0,   0,\n",
       "         0,   0,   0,  34, 147, 255, 198,  46,   0,   0,   0,   0,   0,\n",
       "         0,   0,   0,   0,   0,   0,   0,   0,   0,   0,   0,   0,   0,\n",
       "         0,   0,   0,   0,   0,  34, 147, 255, 209,  75,   0,   0,   0,\n",
       "         0,   0,   0,   0,   0,   0,   0,   0,   0,   0,   0,   0,   0,\n",
       "         0,   0,   0,   0,   0,   0,   0,   4,  92, 240, 209,  75,   0,\n",
       "         0,   0,   0,   0,   0,   0,   0,   0,   0,   0,   0,   0,   0,\n",
       "         0,   0,   0,   0,   0,   0,   0,   0,   0,   0,  66, 204, 218,\n",
       "        96,   0,   0,   0,   0,   0,   0,   0,   0,   0,   0,   0,   0,\n",
       "         0,   0,   0,   0,   0,   6,   4,   0,   0,   0,   0,   0,  61,\n",
       "       195, 235, 139,   0,   0,   0,   0,   0,   0,   0,   0,   0,   0,\n",
       "         0,   0,   0,   0,  14,  84, 169, 140,  43,   0,   0,   0,   0,\n",
       "         0,  45, 166, 255, 189,   0,   0,   0,   0,   0,   0,   0,   0,\n",
       "         0,   0,   0,   0,   0,   0, 121, 228, 216,  80,   5,   0,   0,\n",
       "         0,   0,   0,  40, 156, 255, 189,   0,   0,   0,   0,   0,   0,\n",
       "         0,   0,   0,   0,   0,   0,   0,   0, 171, 248, 156,  40,   0,\n",
       "         0,   0,   0,   0,   0,  49, 172, 241, 153,   0,   0,   0,   0,\n",
       "         0,   0,   0,   0,   0,   0,   0,   0,   0,   0,  93, 216, 240,\n",
       "       110,  15,   0,   0,   0,   0,   2,  73, 210, 232, 132,   0,   0,\n",
       "         0,   0,   0,   0,   0,   0,   0,   0,   0,   0,   0,   0,  24,\n",
       "       166, 244, 237, 113,  16,   0,   0,   3,  57, 176, 255, 222, 107,\n",
       "         0,   0,   0,   0,   0,   0,   0,   0,   0,   0,   0,   0,   0,\n",
       "         0,   0,  27, 163, 244, 234, 157,  91, 106, 174, 233, 255, 252,\n",
       "       190,  43,   0,   0,   0,   0,   0,   0,   0,   0,   0,   0,   0,\n",
       "         0,   0,   0,   0,   0,  27, 161, 246, 255, 255, 255, 255, 255,\n",
       "       252, 200,  72,   0,   0,   0,   0,   0,   0,   0,   0,   0,   0,\n",
       "         0,   0,   0,   0])"
      ]
     },
     "execution_count": 10,
     "metadata": {},
     "output_type": "execute_result"
    }
   ],
   "source": [
    "X.loc[5].values[100:650]"
   ]
  },
  {
   "cell_type": "code",
   "execution_count": 11,
   "id": "4f62f11a-1b81-459d-a486-ddf59a58797d",
   "metadata": {},
   "outputs": [
    {
     "name": "stdout",
     "output_type": "stream",
     "text": [
      "Actual Label:  E\n"
     ]
    },
    {
     "data": {
      "image/png": "[encoded data removed]",
      "text/plain": [
       "<Figure size 640x480 with 1 Axes>"
      ]
     },
     "metadata": {},
     "output_type": "display_data"
    }
   ],
   "source": [
    "display_image(X.loc[300].values, Y.loc[300])"
   ]
  },
  {
   "cell_type": "code",
   "execution_count": 12,
   "id": "7058cced-5e87-4e84-ad37-ed66a0802243",
   "metadata": {},
   "outputs": [],
   "source": [
    "X = X/255.\n",
    "X = X - X.mean(axis=0)"
   ]
  },
  {
   "cell_type": "code",
   "execution_count": 13,
   "id": "c9985375-e949-4214-87ed-782e954e6cd7",
   "metadata": {},
   "outputs": [
    {
     "data": {
      "text/plain": [
       "array([-0.02547914, -0.05001406, -0.07524219, -0.09882951, -0.12896387,\n",
       "       -0.16435106, -0.20697577, -0.25234009, -0.23777618, -0.1646446 ])"
      ]
     },
     "execution_count": 13,
     "metadata": {},
     "output_type": "execute_result"
    }
   ],
   "source": [
    "X.loc[100].values[144:154]"
   ]
  },
  {
   "cell_type": "code",
   "execution_count": 14,
   "id": "eaff1a54-b324-4edf-978a-4ada9ed3a07f",
   "metadata": {},
   "outputs": [
    {
     "data": {
      "text/plain": [
       "18623"
      ]
     },
     "execution_count": 14,
     "metadata": {},
     "output_type": "execute_result"
    }
   ],
   "source": [
    "n_samples = len(df_sample)\n",
    "n_samples"
   ]
  },
  {
   "cell_type": "code",
   "execution_count": 15,
   "id": "c3d842b5-4a80-4bd5-ac95-6470817aeb68",
   "metadata": {},
   "outputs": [],
   "source": [
    "x_train, y_train = (X[:n_samples // 2],\n",
    "                    Y[:n_samples // 2])\n",
    "\n",
    "x_test, y_test = (X[n_samples // 2:],\n",
    "                  Y[n_samples // 2:])"
   ]
  },
  {
   "cell_type": "code",
   "execution_count": 16,
   "id": "d65572d7-1fa6-4dfe-bfe3-332ccfd94131",
   "metadata": {},
   "outputs": [
    {
     "data": {
      "text/plain": [
       "((9311, 784), (9311,))"
      ]
     },
     "execution_count": 16,
     "metadata": {},
     "output_type": "execute_result"
    }
   ],
   "source": [
    "x_train.shape, y_train.shape"
   ]
  },
  {
   "cell_type": "code",
   "execution_count": 17,
   "id": "6237edc4-7edd-49f2-b9b0-9f760e039659",
   "metadata": {},
   "outputs": [],
   "source": [
    "from time import time\n",
    "from sklearn import svm, pipeline\n",
    "from sklearn.kernel_approximation import Nystroem, RBFSampler"
   ]
  },
  {
   "cell_type": "code",
   "execution_count": 18,
   "id": "c0da3961-d381-497f-832b-6caa6bb3eb38",
   "metadata": {},
   "outputs": [],
   "source": [
    "kernel_svm = svm.SVC(gamma=0.01)\n",
    "\n",
    "linear_svm = svm.LinearSVC(max_iter=1500)"
   ]
  },
  {
   "cell_type": "code",
   "execution_count": 19,
   "id": "34628867-c410-4605-8168-1e4d41ff48a8",
   "metadata": {},
   "outputs": [],
   "source": [
    "rbf_approx_svm = pipeline.Pipeline([\n",
    "    ('rbf_sampler', RBFSampler(gamma=0.01,random_state=1)),\n",
    "    ('svm', svm.LinearSVC())\n",
    "])"
   ]
  },
  {
   "cell_type": "code",
   "execution_count": 20,
   "id": "48918065-07e6-43cd-b270-ec81239b27a5",
   "metadata": {},
   "outputs": [],
   "source": [
    "nystroem_approx_svm = pipeline.Pipeline([\n",
    "    ('nystroem', Nystroem(gamma=0.01,random_state=1)),\n",
    "    ('svm', svm.LinearSVC())\n",
    "])"
   ]
  },
  {
   "cell_type": "code",
   "execution_count": 21,
   "id": "debd5fb6-50f1-4c69-afa8-3c87aa8c94f4",
   "metadata": {},
   "outputs": [
    {
     "name": "stdout",
     "output_type": "stream",
     "text": [
      "Score:  0.9184922680412371\n",
      "Runtime:  42.7976496219635\n"
     ]
    }
   ],
   "source": [
    "start = time()\n",
    "\n",
    "kernel_svm.fit(x_train, y_train)\n",
    "kernel_svm_score = kernel_svm.score(x_test, y_test)\n",
    "\n",
    "kernel_svm_time = time() - start\n",
    "\n",
    "print('Score: ', kernel_svm_score)\n",
    "print('Runtime: ', kernel_svm_time)"
   ]
  },
  {
   "cell_type": "code",
   "execution_count": 23,
   "id": "9651a1cb-76a0-445e-aad0-61c93bc8c27a",
   "metadata": {},
   "outputs": [
    {
     "name": "stderr",
     "output_type": "stream",
     "text": [
      "/home/gauravjain/projects/sci-kit/scilib/lib/python3.11/site-packages/sklearn/svm/_classes.py:32: FutureWarning: The default value of `dual` will change from `True` to `'auto'` in 1.5. Set the value of `dual` explicitly to suppress the warning.\n",
      "  warnings.warn(\n"
     ]
    },
    {
     "name": "stdout",
     "output_type": "stream",
     "text": [
      "Score:  0.8111039518900344\n",
      "Runtime:  6.183257579803467\n"
     ]
    }
   ],
   "source": [
    "start = time()\n",
    "\n",
    "linear_svm.set_params(C=0.1)\n",
    "linear_svm.fit(x_train, y_train)\n",
    "linear_svm_score = linear_svm.score(x_test, y_test)\n",
    "\n",
    "linear_svm_time = time() - start\n",
    "\n",
    "print('Score: ', linear_svm_score)\n",
    "print('Runtime: ', linear_svm_time)"
   ]
  },
  {
   "cell_type": "code",
   "execution_count": 24,
   "id": "7d739391-d266-4f75-857c-a944c4617b74",
   "metadata": {},
   "outputs": [
    {
     "name": "stderr",
     "output_type": "stream",
     "text": [
      "/home/gauravjain/projects/sci-kit/scilib/lib/python3.11/site-packages/sklearn/svm/_classes.py:32: FutureWarning: The default value of `dual` will change from `True` to `'auto'` in 1.5. Set the value of `dual` explicitly to suppress the warning.\n",
      "  warnings.warn(\n"
     ]
    },
    {
     "name": "stdout",
     "output_type": "stream",
     "text": [
      "Score:  0.8591065292096219\n",
      "Runtime:  41.6001877784729\n"
     ]
    }
   ],
   "source": [
    "start = time()\n",
    "\n",
    "rbf_approx_svm.set_params(rbf_sampler__n_components=len(x_train))\n",
    "rbf_approx_svm.set_params(svm__C=0.1)\n",
    "\n",
    "rbf_approx_svm.fit(x_train, y_train)\n",
    "rbf_approx_svm_score = rbf_approx_svm.score(x_test, y_test)\n",
    "\n",
    "rbf_approx_svm_time = time() - start\n",
    "\n",
    "print('Score: ', rbf_approx_svm_score)\n",
    "print('Runtime: ', rbf_approx_svm_time)"
   ]
  },
  {
   "cell_type": "code",
   "execution_count": 25,
   "id": "64f65ecc-efa6-41ce-abd8-dcdd5c6b67ce",
   "metadata": {},
   "outputs": [
    {
     "name": "stderr",
     "output_type": "stream",
     "text": [
      "/home/gauravjain/projects/sci-kit/scilib/lib/python3.11/site-packages/sklearn/svm/_classes.py:32: FutureWarning: The default value of `dual` will change from `True` to `'auto'` in 1.5. Set the value of `dual` explicitly to suppress the warning.\n",
      "  warnings.warn(\n"
     ]
    },
    {
     "name": "stdout",
     "output_type": "stream",
     "text": [
      "Score:  0.8610395189003437\n",
      "Runtime:  499.1192443370819\n"
     ]
    }
   ],
   "source": [
    "start = time()\n",
    "\n",
    "nystroem_approx_svm.set_params(nystroem__n_components=len(x_train))\n",
    "nystroem_approx_svm.set_params(svm__C=0.1)\n",
    "\n",
    "nystroem_approx_svm.fit(x_train, y_train)\n",
    "nystroem_approx_svm_score = nystroem_approx_svm.score(x_test, y_test)\n",
    "\n",
    "nystroem_approx_svm_time = time() - start\n",
    "\n",
    "print('Score: ', nystroem_approx_svm_score)\n",
    "print('Runtime: ', nystroem_approx_svm_time)"
   ]
  },
  {
   "cell_type": "code",
   "execution_count": 26,
   "id": "fe378ee0-1164-498d-9f33-ed72ec67af78",
   "metadata": {},
   "outputs": [
    {
     "name": "stderr",
     "output_type": "stream",
     "text": [
      "/home/gauravjain/projects/sci-kit/scilib/lib/python3.11/site-packages/sklearn/svm/_classes.py:32: FutureWarning: The default value of `dual` will change from `True` to `'auto'` in 1.5. Set the value of `dual` explicitly to suppress the warning.\n",
      "  warnings.warn(\n"
     ]
    },
    {
     "name": "stdout",
     "output_type": "stream",
     "text": [
      "Score:  0.9203178694158075\n",
      "Runtime:  53.33875918388367\n"
     ]
    }
   ],
   "source": [
    "start = time()\n",
    "\n",
    "rbf_approx_svm.set_params(rbf_sampler__n_components=len(x_train))\n",
    "rbf_approx_svm.set_params(svm__C=1)\n",
    "\n",
    "rbf_approx_svm.fit(x_train, y_train)\n",
    "rbf_approx_svm_score = rbf_approx_svm.score(x_test, y_test)\n",
    "\n",
    "rbf_approx_svm_time = time() - start\n",
    "\n",
    "print('Score: ', rbf_approx_svm_score)\n",
    "print('Runtime: ', rbf_approx_svm_time)"
   ]
  },
  {
   "cell_type": "code",
   "execution_count": 27,
   "id": "917138e3-f720-4f9d-b3fa-700df2d90dce",
   "metadata": {},
   "outputs": [
    {
     "name": "stderr",
     "output_type": "stream",
     "text": [
      "/home/gauravjain/projects/sci-kit/scilib/lib/python3.11/site-packages/sklearn/svm/_classes.py:32: FutureWarning: The default value of `dual` will change from `True` to `'auto'` in 1.5. Set the value of `dual` explicitly to suppress the warning.\n",
      "  warnings.warn(\n"
     ]
    },
    {
     "name": "stdout",
     "output_type": "stream",
     "text": [
      "Score:  0.9219286941580757\n",
      "Runtime:  528.6330313682556\n"
     ]
    }
   ],
   "source": [
    "start = time()\n",
    "\n",
    "nystroem_approx_svm.set_params(nystroem__n_components=len(x_train))\n",
    "nystroem_approx_svm.set_params(svm__C=1)\n",
    "\n",
    "nystroem_approx_svm.fit(x_train, y_train)\n",
    "nystroem_approx_svm_score = nystroem_approx_svm.score(x_test, y_test)\n",
    "\n",
    "nystroem_approx_svm_time = time() - start\n",
    "\n",
    "print('Score: ', nystroem_approx_svm_score)\n",
    "print('Runtime: ', nystroem_approx_svm_time)"
   ]
  },
  {
   "cell_type": "markdown",
   "id": "0ebf124f-a23d-4f60-be2a-a65d3f8b9b54",
   "metadata": {},
   "source": [
    "## Run times based on varying sample sizes"
   ]
  },
  {
   "cell_type": "code",
   "execution_count": 37,
   "id": "e7787651-939f-47f2-8190-fd0209ea8d15",
   "metadata": {},
   "outputs": [
    {
     "data": {
      "text/plain": [
       "array([ 300,  600,  900, 1200, 1500, 1800])"
      ]
     },
     "execution_count": 37,
     "metadata": {},
     "output_type": "execute_result"
    }
   ],
   "source": [
    "sample_sizes = 300 * np.arange(1, 7)\n",
    "sample_sizes"
   ]
  },
  {
   "cell_type": "code",
   "execution_count": 30,
   "id": "ce7d109f-d552-4fdb-bc13-1566794d83ae",
   "metadata": {},
   "outputs": [],
   "source": [
    "rbf_scores = []\n",
    "nystroem_scores = []\n",
    "\n",
    "rbf_times = []\n",
    "nystroem_times = []"
   ]
  },
  {
   "cell_type": "code",
   "execution_count": 31,
   "id": "508605df-ead2-4dbf-9bdf-0210ea8aa1ee",
   "metadata": {},
   "outputs": [
    {
     "name": "stderr",
     "output_type": "stream",
     "text": [
      "/home/gauravjain/projects/sci-kit/scilib/lib/python3.11/site-packages/sklearn/svm/_classes.py:32: FutureWarning: The default value of `dual` will change from `True` to `'auto'` in 1.5. Set the value of `dual` explicitly to suppress the warning.\n",
      "  warnings.warn(\n",
      "/home/gauravjain/projects/sci-kit/scilib/lib/python3.11/site-packages/sklearn/svm/_classes.py:32: FutureWarning: The default value of `dual` will change from `True` to `'auto'` in 1.5. Set the value of `dual` explicitly to suppress the warning.\n",
      "  warnings.warn(\n",
      "/home/gauravjain/projects/sci-kit/scilib/lib/python3.11/site-packages/sklearn/svm/_classes.py:32: FutureWarning: The default value of `dual` will change from `True` to `'auto'` in 1.5. Set the value of `dual` explicitly to suppress the warning.\n",
      "  warnings.warn(\n",
      "/home/gauravjain/projects/sci-kit/scilib/lib/python3.11/site-packages/sklearn/svm/_classes.py:32: FutureWarning: The default value of `dual` will change from `True` to `'auto'` in 1.5. Set the value of `dual` explicitly to suppress the warning.\n",
      "  warnings.warn(\n",
      "/home/gauravjain/projects/sci-kit/scilib/lib/python3.11/site-packages/sklearn/svm/_classes.py:32: FutureWarning: The default value of `dual` will change from `True` to `'auto'` in 1.5. Set the value of `dual` explicitly to suppress the warning.\n",
      "  warnings.warn(\n",
      "/home/gauravjain/projects/sci-kit/scilib/lib/python3.11/site-packages/sklearn/svm/_classes.py:32: FutureWarning: The default value of `dual` will change from `True` to `'auto'` in 1.5. Set the value of `dual` explicitly to suppress the warning.\n",
      "  warnings.warn(\n",
      "/home/gauravjain/projects/sci-kit/scilib/lib/python3.11/site-packages/sklearn/svm/_classes.py:32: FutureWarning: The default value of `dual` will change from `True` to `'auto'` in 1.5. Set the value of `dual` explicitly to suppress the warning.\n",
      "  warnings.warn(\n",
      "/home/gauravjain/projects/sci-kit/scilib/lib/python3.11/site-packages/sklearn/svm/_classes.py:32: FutureWarning: The default value of `dual` will change from `True` to `'auto'` in 1.5. Set the value of `dual` explicitly to suppress the warning.\n",
      "  warnings.warn(\n",
      "/home/gauravjain/projects/sci-kit/scilib/lib/python3.11/site-packages/sklearn/svm/_classes.py:32: FutureWarning: The default value of `dual` will change from `True` to `'auto'` in 1.5. Set the value of `dual` explicitly to suppress the warning.\n",
      "  warnings.warn(\n",
      "/home/gauravjain/projects/sci-kit/scilib/lib/python3.11/site-packages/sklearn/svm/_classes.py:32: FutureWarning: The default value of `dual` will change from `True` to `'auto'` in 1.5. Set the value of `dual` explicitly to suppress the warning.\n",
      "  warnings.warn(\n",
      "/home/gauravjain/projects/sci-kit/scilib/lib/python3.11/site-packages/sklearn/svm/_classes.py:32: FutureWarning: The default value of `dual` will change from `True` to `'auto'` in 1.5. Set the value of `dual` explicitly to suppress the warning.\n",
      "  warnings.warn(\n",
      "/home/gauravjain/projects/sci-kit/scilib/lib/python3.11/site-packages/sklearn/svm/_classes.py:32: FutureWarning: The default value of `dual` will change from `True` to `'auto'` in 1.5. Set the value of `dual` explicitly to suppress the warning.\n",
      "  warnings.warn(\n"
     ]
    }
   ],
   "source": [
    "for D in sample_sizes:\n",
    "\n",
    "    rbf_approx_svm.set_params(rbf_sampler__n_components=D)\n",
    "    nystroem_approx_svm.set_params(nystroem__n_components=D)\n",
    "\n",
    "    start = time()\n",
    "    nystroem_approx_svm.fit(x_train, y_train)\n",
    "    nystroem_times.append(time() - start)\n",
    "\n",
    "    start = time()\n",
    "    rbf_approx_svm.fit(x_train, y_train)\n",
    "    rbf_times.append(time() - start)\n",
    "\n",
    "    rbf_score = rbf_approx_svm.score(x_test, y_test)\n",
    "    nystroem_score = nystroem_approx_svm.score(x_test, y_test)\n",
    "\n",
    "    nystroem_scores.append(nystroem_score)\n",
    "    rbf_scores.append(rbf_score)"
   ]
  },
  {
   "cell_type": "code",
   "execution_count": 32,
   "id": "766d8b18-d5a6-4f84-92ad-b09b39259a02",
   "metadata": {},
   "outputs": [
    {
     "data": {
      "text/plain": [
       "[0.8404209621993127,\n",
       " 0.8788659793814433,\n",
       " 0.8899269759450171,\n",
       " 0.9012027491408935,\n",
       " 0.9038874570446735,\n",
       " 0.9074312714776632]"
      ]
     },
     "execution_count": 32,
     "metadata": {},
     "output_type": "execute_result"
    }
   ],
   "source": [
    "rbf_scores"
   ]
  },
  {
   "cell_type": "code",
   "execution_count": 33,
   "id": "2cc7017f-0445-4894-ab0b-1938ed1833d0",
   "metadata": {},
   "outputs": [
    {
     "data": {
      "text/plain": [
       "[1.9572510719299316,\n",
       " 3.3432300090789795,\n",
       " 5.093496799468994,\n",
       " 6.816396713256836,\n",
       " 8.200482845306396,\n",
       " 9.747249126434326]"
      ]
     },
     "execution_count": 33,
     "metadata": {},
     "output_type": "execute_result"
    }
   ],
   "source": [
    "rbf_times"
   ]
  },
  {
   "cell_type": "code",
   "execution_count": 34,
   "id": "7882a420-b52a-458a-831c-575560ee148b",
   "metadata": {},
   "outputs": [
    {
     "data": {
      "text/plain": [
       "[0.8754295532646048,\n",
       " 0.8925042955326461,\n",
       " 0.9000214776632303,\n",
       " 0.9050687285223368,\n",
       " 0.9079682130584192,\n",
       " 0.9110824742268041]"
      ]
     },
     "execution_count": 34,
     "metadata": {},
     "output_type": "execute_result"
    }
   ],
   "source": [
    "nystroem_scores"
   ]
  },
  {
   "cell_type": "code",
   "execution_count": 35,
   "id": "515fde8f-16ac-46fc-8378-89a825a89ba1",
   "metadata": {},
   "outputs": [
    {
     "data": {
      "text/plain": [
       "[2.23354434967041,\n",
       " 3.736013889312744,\n",
       " 5.725640773773193,\n",
       " 7.73583722114563,\n",
       " 10.003558874130249,\n",
       " 12.598873853683472]"
      ]
     },
     "execution_count": 35,
     "metadata": {},
     "output_type": "execute_result"
    }
   ],
   "source": [
    "nystroem_times"
   ]
  },
  {
   "cell_type": "code",
   "execution_count": 36,
   "id": "b8088cbd-7320-4470-bc62-9c8fc6cdd9dd",
   "metadata": {},
   "outputs": [
    {
     "data": {
      "image/png": "[encoded data removed]",
      "text/plain": [
       "<Figure size 2000x1000 with 2 Axes>"
      ]
     },
     "metadata": {},
     "output_type": "display_data"
    }
   ],
   "source": [
    "plt.figure(figsize=(20,10))\n",
    "\n",
    "accuracy = plt.subplot(121)\n",
    "timescale = plt.subplot(122)\n",
    "\n",
    "accuracy.plot(sample_sizes, nystroem_scores, label='Nystroem approx. kernel')\n",
    "timescale.plot(sample_sizes, nystroem_times, '--', label='Nystroem approx. kernel')\n",
    "\n",
    "accuracy.plot(sample_sizes, rbf_scores, label='RBF approx. kernel')\n",
    "timescale.plot(sample_sizes, rbf_times, '--', label='RBF approx. kernel')\n",
    "\n",
    "accuracy.plot([sample_sizes[0], sample_sizes[-1]],\n",
    "              [linear_svm_score, linear_svm_score], label='Linear svm')\n",
    "timescale.plot([sample_sizes[0], sample_sizes[-1]],\n",
    "               [linear_svm_time, linear_svm_time], '--', label='Linear svm')\n",
    "\n",
    "accuracy.plot([sample_sizes[0], sample_sizes[-1]],\n",
    "              [kernel_svm_score, kernel_svm_score], label='RBF svm')\n",
    "timescale.plot([sample_sizes[0], sample_sizes[-1]],\n",
    "               [kernel_svm_time, kernel_svm_time], '--', label='RBF svm')\n",
    "\n",
    "accuracy.set_title('Classification Accuracy')\n",
    "timescale.set_title('Training Times')\n",
    "\n",
    "accuracy.set_xlim(sample_sizes[0], sample_sizes[-1])\n",
    "accuracy.set_ylim(0.6, 1)\n",
    "\n",
    "accuracy.set_xlabel('Sampling steps = transformed feature dimension')\n",
    "timescale.set_xlabel('Sampling steps = transformed feature dimension')\n",
    "\n",
    "accuracy.set_ylabel('Classification Accuracy')\n",
    "timescale.set_ylabel('Training time in seconds')\n",
    "\n",
    "accuracy.legend(loc='best')\n",
    "timescale.legend(loc='best')\n",
    "\n",
    "plt.show()"
   ]
  },
  {
   "cell_type": "code",
   "execution_count": null,
   "id": "f1b02a43-3f11-45b8-9348-9f89fd37b088",
   "metadata": {},
   "outputs": [],
   "source": []
  }
 ],
 "metadata": {
  "kernelspec": {
   "display_name": "scilib",
   "language": "python",
   "name": "scilib"
  },
  "language_info": {
   "codemirror_mode": {
    "name": "ipython",
    "version": 3
   },
   "file_extension": ".py",
   "mimetype": "text/x-python",
   "name": "python",
   "nbconvert_exporter": "python",
   "pygments_lexer": "ipython3",
   "version": "3.11.4"
  }
 },
 "nbformat": 4,
 "nbformat_minor": 5
}
