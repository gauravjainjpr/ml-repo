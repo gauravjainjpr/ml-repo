{
 "cells": [
  {
   "cell_type": "code",
   "execution_count": 2,
   "id": "e3597dae-522b-4a4e-a788-d689e5f1cdc1",
   "metadata": {},
   "outputs": [],
   "source": [
    "# import libraries\n",
    "\n",
    "import pandas as pd\n",
    "import numpy as np\n",
    "import matplotlib.pyplot as plt\n",
    "\n",
    "from sklearn import metrics\n",
    "from sklearn import datasets\n",
    "from sklearn.cluster import KMeans\n",
    "from sklearn.cluster import AgglomerativeClustering\n",
    "from sklearn.cluster import Birch\n",
    "from sklearn.cluster import DBSCAN\n",
    "from sklearn.cluster import MeanShift\n",
    "from sklearn.cluster import AffinityPropagation\n",
    "from sklearn.cluster import MiniBatchKMeans"
   ]
  },
  {
   "cell_type": "code",
   "execution_count": 9,
   "id": "c35c6010-a6de-4eea-acfc-5aed0b0d744f",
   "metadata": {},
   "outputs": [],
   "source": [
    "df = datasets.load_iris()"
   ]
  },
  {
   "cell_type": "code",
   "execution_count": 10,
   "id": "009d4f7d-26cc-446e-808e-c7f56903ccd6",
   "metadata": {},
   "outputs": [],
   "source": [
    "iris_features = pd.DataFrame(df.data, columns=df.feature_names)\n",
    "iris_target = pd.DataFrame(df.target, columns=[\"class\"])\n",
    "iris = pd.concat([iris_features,iris_target],axis=1)"
   ]
  },
  {
   "cell_type": "code",
   "execution_count": 11,
   "id": "fe28119d-112f-4607-8c40-a86fecb76215",
   "metadata": {},
   "outputs": [
    {
     "data": {
      "text/html": [
       "<div>\n",
       "<style scoped>\n",
       "    .dataframe tbody tr th:only-of-type {\n",
       "        vertical-align: middle;\n",
       "    }\n",
       "\n",
       "    .dataframe tbody tr th {\n",
       "        vertical-align: top;\n",
       "    }\n",
       "\n",
       "    .dataframe thead th {\n",
       "        text-align: right;\n",
       "    }\n",
       "</style>\n",
       "<table border=\"1\" class=\"dataframe\">\n",
       "  <thead>\n",
       "    <tr style=\"text-align: right;\">\n",
       "      <th></th>\n",
       "      <th>sepal length (cm)</th>\n",
       "      <th>sepal width (cm)</th>\n",
       "      <th>petal length (cm)</th>\n",
       "      <th>petal width (cm)</th>\n",
       "      <th>class</th>\n",
       "    </tr>\n",
       "  </thead>\n",
       "  <tbody>\n",
       "    <tr>\n",
       "      <th>6</th>\n",
       "      <td>4.6</td>\n",
       "      <td>3.4</td>\n",
       "      <td>1.4</td>\n",
       "      <td>0.3</td>\n",
       "      <td>0</td>\n",
       "    </tr>\n",
       "    <tr>\n",
       "      <th>57</th>\n",
       "      <td>4.9</td>\n",
       "      <td>2.4</td>\n",
       "      <td>3.3</td>\n",
       "      <td>1.0</td>\n",
       "      <td>1</td>\n",
       "    </tr>\n",
       "    <tr>\n",
       "      <th>113</th>\n",
       "      <td>5.7</td>\n",
       "      <td>2.5</td>\n",
       "      <td>5.0</td>\n",
       "      <td>2.0</td>\n",
       "      <td>2</td>\n",
       "    </tr>\n",
       "    <tr>\n",
       "      <th>88</th>\n",
       "      <td>5.6</td>\n",
       "      <td>3.0</td>\n",
       "      <td>4.1</td>\n",
       "      <td>1.3</td>\n",
       "      <td>1</td>\n",
       "    </tr>\n",
       "    <tr>\n",
       "      <th>54</th>\n",
       "      <td>6.5</td>\n",
       "      <td>2.8</td>\n",
       "      <td>4.6</td>\n",
       "      <td>1.5</td>\n",
       "      <td>1</td>\n",
       "    </tr>\n",
       "    <tr>\n",
       "      <th>47</th>\n",
       "      <td>4.6</td>\n",
       "      <td>3.2</td>\n",
       "      <td>1.4</td>\n",
       "      <td>0.2</td>\n",
       "      <td>0</td>\n",
       "    </tr>\n",
       "    <tr>\n",
       "      <th>83</th>\n",
       "      <td>6.0</td>\n",
       "      <td>2.7</td>\n",
       "      <td>5.1</td>\n",
       "      <td>1.6</td>\n",
       "      <td>1</td>\n",
       "    </tr>\n",
       "    <tr>\n",
       "      <th>35</th>\n",
       "      <td>5.0</td>\n",
       "      <td>3.2</td>\n",
       "      <td>1.2</td>\n",
       "      <td>0.2</td>\n",
       "      <td>0</td>\n",
       "    </tr>\n",
       "    <tr>\n",
       "      <th>24</th>\n",
       "      <td>4.8</td>\n",
       "      <td>3.4</td>\n",
       "      <td>1.9</td>\n",
       "      <td>0.2</td>\n",
       "      <td>0</td>\n",
       "    </tr>\n",
       "    <tr>\n",
       "      <th>105</th>\n",
       "      <td>7.6</td>\n",
       "      <td>3.0</td>\n",
       "      <td>6.6</td>\n",
       "      <td>2.1</td>\n",
       "      <td>2</td>\n",
       "    </tr>\n",
       "  </tbody>\n",
       "</table>\n",
       "</div>"
      ],
      "text/plain": [
       "     sepal length (cm)  sepal width (cm)  petal length (cm)  petal width (cm)  \\\n",
       "6                  4.6               3.4                1.4               0.3   \n",
       "57                 4.9               2.4                3.3               1.0   \n",
       "113                5.7               2.5                5.0               2.0   \n",
       "88                 5.6               3.0                4.1               1.3   \n",
       "54                 6.5               2.8                4.6               1.5   \n",
       "47                 4.6               3.2                1.4               0.2   \n",
       "83                 6.0               2.7                5.1               1.6   \n",
       "35                 5.0               3.2                1.2               0.2   \n",
       "24                 4.8               3.4                1.9               0.2   \n",
       "105                7.6               3.0                6.6               2.1   \n",
       "\n",
       "     class  \n",
       "6        0  \n",
       "57       1  \n",
       "113      2  \n",
       "88       1  \n",
       "54       1  \n",
       "47       0  \n",
       "83       1  \n",
       "35       0  \n",
       "24       0  \n",
       "105      2  "
      ]
     },
     "execution_count": 11,
     "metadata": {},
     "output_type": "execute_result"
    }
   ],
   "source": [
    "iris.sample(10)"
   ]
  },
  {
   "cell_type": "code",
   "execution_count": 12,
   "id": "e4a279e4-2579-4802-8320-406f3425e185",
   "metadata": {},
   "outputs": [
    {
     "data": {
      "text/html": [
       "<div>\n",
       "<style scoped>\n",
       "    .dataframe tbody tr th:only-of-type {\n",
       "        vertical-align: middle;\n",
       "    }\n",
       "\n",
       "    .dataframe tbody tr th {\n",
       "        vertical-align: top;\n",
       "    }\n",
       "\n",
       "    .dataframe thead th {\n",
       "        text-align: right;\n",
       "    }\n",
       "</style>\n",
       "<table border=\"1\" class=\"dataframe\">\n",
       "  <thead>\n",
       "    <tr style=\"text-align: right;\">\n",
       "      <th></th>\n",
       "      <th>sepal length (cm)</th>\n",
       "      <th>sepal width (cm)</th>\n",
       "      <th>petal length (cm)</th>\n",
       "      <th>petal width (cm)</th>\n",
       "      <th>class</th>\n",
       "    </tr>\n",
       "  </thead>\n",
       "  <tbody>\n",
       "    <tr>\n",
       "      <th>14</th>\n",
       "      <td>5.7</td>\n",
       "      <td>3.8</td>\n",
       "      <td>1.7</td>\n",
       "      <td>0.3</td>\n",
       "      <td>0</td>\n",
       "    </tr>\n",
       "    <tr>\n",
       "      <th>4</th>\n",
       "      <td>7.3</td>\n",
       "      <td>2.9</td>\n",
       "      <td>6.3</td>\n",
       "      <td>1.8</td>\n",
       "      <td>2</td>\n",
       "    </tr>\n",
       "    <tr>\n",
       "      <th>135</th>\n",
       "      <td>5.6</td>\n",
       "      <td>3.0</td>\n",
       "      <td>4.5</td>\n",
       "      <td>1.5</td>\n",
       "      <td>1</td>\n",
       "    </tr>\n",
       "    <tr>\n",
       "      <th>137</th>\n",
       "      <td>5.4</td>\n",
       "      <td>3.4</td>\n",
       "      <td>1.7</td>\n",
       "      <td>0.2</td>\n",
       "      <td>0</td>\n",
       "    </tr>\n",
       "    <tr>\n",
       "      <th>69</th>\n",
       "      <td>6.3</td>\n",
       "      <td>2.5</td>\n",
       "      <td>5.0</td>\n",
       "      <td>1.9</td>\n",
       "      <td>2</td>\n",
       "    </tr>\n",
       "    <tr>\n",
       "      <th>80</th>\n",
       "      <td>4.7</td>\n",
       "      <td>3.2</td>\n",
       "      <td>1.3</td>\n",
       "      <td>0.2</td>\n",
       "      <td>0</td>\n",
       "    </tr>\n",
       "    <tr>\n",
       "      <th>124</th>\n",
       "      <td>6.1</td>\n",
       "      <td>3.0</td>\n",
       "      <td>4.6</td>\n",
       "      <td>1.4</td>\n",
       "      <td>1</td>\n",
       "    </tr>\n",
       "    <tr>\n",
       "      <th>42</th>\n",
       "      <td>5.1</td>\n",
       "      <td>3.5</td>\n",
       "      <td>1.4</td>\n",
       "      <td>0.2</td>\n",
       "      <td>0</td>\n",
       "    </tr>\n",
       "    <tr>\n",
       "      <th>129</th>\n",
       "      <td>7.6</td>\n",
       "      <td>3.0</td>\n",
       "      <td>6.6</td>\n",
       "      <td>2.1</td>\n",
       "      <td>2</td>\n",
       "    </tr>\n",
       "    <tr>\n",
       "      <th>54</th>\n",
       "      <td>5.6</td>\n",
       "      <td>2.7</td>\n",
       "      <td>4.2</td>\n",
       "      <td>1.3</td>\n",
       "      <td>1</td>\n",
       "    </tr>\n",
       "  </tbody>\n",
       "</table>\n",
       "</div>"
      ],
      "text/plain": [
       "     sepal length (cm)  sepal width (cm)  petal length (cm)  petal width (cm)  \\\n",
       "14                 5.7               3.8                1.7               0.3   \n",
       "4                  7.3               2.9                6.3               1.8   \n",
       "135                5.6               3.0                4.5               1.5   \n",
       "137                5.4               3.4                1.7               0.2   \n",
       "69                 6.3               2.5                5.0               1.9   \n",
       "80                 4.7               3.2                1.3               0.2   \n",
       "124                6.1               3.0                4.6               1.4   \n",
       "42                 5.1               3.5                1.4               0.2   \n",
       "129                7.6               3.0                6.6               2.1   \n",
       "54                 5.6               2.7                4.2               1.3   \n",
       "\n",
       "     class  \n",
       "14       0  \n",
       "4        2  \n",
       "135      1  \n",
       "137      0  \n",
       "69       2  \n",
       "80       0  \n",
       "124      1  \n",
       "42       0  \n",
       "129      2  \n",
       "54       1  "
      ]
     },
     "execution_count": 12,
     "metadata": {},
     "output_type": "execute_result"
    }
   ],
   "source": [
    "iris_df = iris.sample(frac=1).reset_index(drop=True)\n",
    "iris_df.sample(10)"
   ]
  },
  {
   "cell_type": "code",
   "execution_count": 13,
   "id": "429d1c63-a9a0-4985-bd01-0a0b4153470e",
   "metadata": {},
   "outputs": [
    {
     "data": {
      "text/html": [
       "<div>\n",
       "<style scoped>\n",
       "    .dataframe tbody tr th:only-of-type {\n",
       "        vertical-align: middle;\n",
       "    }\n",
       "\n",
       "    .dataframe tbody tr th {\n",
       "        vertical-align: top;\n",
       "    }\n",
       "\n",
       "    .dataframe thead th {\n",
       "        text-align: right;\n",
       "    }\n",
       "</style>\n",
       "<table border=\"1\" class=\"dataframe\">\n",
       "  <thead>\n",
       "    <tr style=\"text-align: right;\">\n",
       "      <th></th>\n",
       "      <th>sepal length (cm)</th>\n",
       "      <th>sepal width (cm)</th>\n",
       "      <th>petal length (cm)</th>\n",
       "      <th>petal width (cm)</th>\n",
       "    </tr>\n",
       "  </thead>\n",
       "  <tbody>\n",
       "    <tr>\n",
       "      <th>0</th>\n",
       "      <td>4.6</td>\n",
       "      <td>3.2</td>\n",
       "      <td>1.4</td>\n",
       "      <td>0.2</td>\n",
       "    </tr>\n",
       "    <tr>\n",
       "      <th>1</th>\n",
       "      <td>5.9</td>\n",
       "      <td>3.0</td>\n",
       "      <td>4.2</td>\n",
       "      <td>1.5</td>\n",
       "    </tr>\n",
       "    <tr>\n",
       "      <th>2</th>\n",
       "      <td>6.4</td>\n",
       "      <td>2.7</td>\n",
       "      <td>5.3</td>\n",
       "      <td>1.9</td>\n",
       "    </tr>\n",
       "    <tr>\n",
       "      <th>3</th>\n",
       "      <td>5.7</td>\n",
       "      <td>3.0</td>\n",
       "      <td>4.2</td>\n",
       "      <td>1.2</td>\n",
       "    </tr>\n",
       "    <tr>\n",
       "      <th>4</th>\n",
       "      <td>7.3</td>\n",
       "      <td>2.9</td>\n",
       "      <td>6.3</td>\n",
       "      <td>1.8</td>\n",
       "    </tr>\n",
       "  </tbody>\n",
       "</table>\n",
       "</div>"
      ],
      "text/plain": [
       "   sepal length (cm)  sepal width (cm)  petal length (cm)  petal width (cm)\n",
       "0                4.6               3.2                1.4               0.2\n",
       "1                5.9               3.0                4.2               1.5\n",
       "2                6.4               2.7                5.3               1.9\n",
       "3                5.7               3.0                4.2               1.2\n",
       "4                7.3               2.9                6.3               1.8"
      ]
     },
     "execution_count": 13,
     "metadata": {},
     "output_type": "execute_result"
    }
   ],
   "source": [
    "iris_features = iris_df.drop('class', axis = 1)\n",
    "iris_target = iris_df['class']\n",
    "\n",
    "iris_features.head()"
   ]
  },
  {
   "cell_type": "code",
   "execution_count": 14,
   "id": "53b2f8b0-9247-48f8-bbf6-e7adaab58730",
   "metadata": {},
   "outputs": [
    {
     "data": {
      "text/plain": [
       "0    0\n",
       "1    1\n",
       "2    2\n",
       "3    1\n",
       "4    2\n",
       "Name: class, dtype: int64"
      ]
     },
     "execution_count": 14,
     "metadata": {},
     "output_type": "execute_result"
    }
   ],
   "source": [
    "iris_target.head()"
   ]
  },
  {
   "cell_type": "code",
   "execution_count": 18,
   "id": "a82d7814-1455-44e8-855d-64b4ed22cb26",
   "metadata": {},
   "outputs": [],
   "source": [
    "def build_model(clustering_model, data, labels):\n",
    "\n",
    "    model = clustering_model(data)\n",
    "\n",
    "    print('home\\tcomp1\\tv-meas\\tARI\\tAMI\\tsilhouette')\n",
    "    print(50 * '-')\n",
    "\n",
    "    print('%.3f\\t%.3f\\t%.3f\\t%.3f\\t%.3f\\t%.3f'\n",
    "           %(metrics.homogeneity_score(labels, model.labels_),\n",
    "             metrics.completeness_score(labels, model.labels_),\n",
    "             metrics.v_measure_score(labels, model.labels_),\n",
    "             metrics.adjusted_rand_score(labels, model.labels_),\n",
    "             metrics.adjusted_mutual_info_score(labels, model.labels_),\n",
    "             metrics.silhouette_score(data, model.labels_)))"
   ]
  },
  {
   "cell_type": "code",
   "execution_count": 19,
   "id": "d46ba3ef-ee9c-4e7c-acf3-c73f40d8def5",
   "metadata": {},
   "outputs": [],
   "source": [
    "def k_means(data, n_clusters=3, max_iter=1000):\n",
    "    model = KMeans(n_clusters=n_clusters, max_iter=max_iter).fit(data)\n",
    "\n",
    "    return model"
   ]
  },
  {
   "cell_type": "code",
   "execution_count": 20,
   "id": "f12b261c-8079-405b-b194-43e8dff1c49e",
   "metadata": {},
   "outputs": [
    {
     "name": "stdout",
     "output_type": "stream",
     "text": [
      "home\tcomp1\tv-meas\tARI\tAMI\tsilhouette\n",
      "--------------------------------------------------\n",
      "0.751\t0.765\t0.758\t0.730\t0.755\t0.553\n"
     ]
    },
    {
     "name": "stderr",
     "output_type": "stream",
     "text": [
      "/home/gauravjain/projects/sci-kit/scilib/lib/python3.11/site-packages/sklearn/cluster/_kmeans.py:1412: FutureWarning: The default value of `n_init` will change from 10 to 'auto' in 1.4. Set the value of `n_init` explicitly to suppress the warning\n",
      "  super()._check_params_vs_input(X, default_n_init=10)\n"
     ]
    }
   ],
   "source": [
    "build_model(k_means, iris_features, iris_target)"
   ]
  },
  {
   "cell_type": "code",
   "execution_count": 21,
   "id": "14305471-9023-4ab4-93dd-7131961e6cce",
   "metadata": {},
   "outputs": [],
   "source": [
    "def agglomerative_fn(data, n_clusters=3):\n",
    "    model = AgglomerativeClustering(n_clusters=n_clusters).fit(data)\n",
    "    return model"
   ]
  },
  {
   "cell_type": "code",
   "execution_count": 22,
   "id": "15f18c3b-6817-4afa-831b-78a366527006",
   "metadata": {},
   "outputs": [
    {
     "name": "stdout",
     "output_type": "stream",
     "text": [
      "home\tcomp1\tv-meas\tARI\tAMI\tsilhouette\n",
      "--------------------------------------------------\n",
      "0.761\t0.780\t0.770\t0.731\t0.767\t0.554\n"
     ]
    }
   ],
   "source": [
    "build_model(agglomerative_fn, iris_features, iris_target)"
   ]
  },
  {
   "cell_type": "code",
   "execution_count": 23,
   "id": "05899d3c-1ccd-49a0-90c3-90e31a9bfe6a",
   "metadata": {},
   "outputs": [],
   "source": [
    "def dbscan_fn(data, eps=0.45, min_samples=4):\n",
    "    model = DBSCAN(eps=eps, min_samples=min_samples).fit(data)\n",
    "    return model"
   ]
  },
  {
   "cell_type": "code",
   "execution_count": 24,
   "id": "ab7c8a3a-716a-402f-b959-fe6402a6d6e9",
   "metadata": {},
   "outputs": [
    {
     "name": "stdout",
     "output_type": "stream",
     "text": [
      "home\tcomp1\tv-meas\tARI\tAMI\tsilhouette\n",
      "--------------------------------------------------\n",
      "0.577\t0.609\t0.593\t0.508\t0.584\t0.372\n"
     ]
    }
   ],
   "source": [
    "build_model(dbscan_fn, iris_features, iris_target)"
   ]
  },
  {
   "cell_type": "code",
   "execution_count": 25,
   "id": "396111f6-7e0c-4be8-a47c-43b09a55a465",
   "metadata": {},
   "outputs": [],
   "source": [
    "def mean_shift_fn(data, bandwidth=0.85):\n",
    "    model = MeanShift(bandwidth=bandwidth).fit(data)\n",
    "    return model"
   ]
  },
  {
   "cell_type": "code",
   "execution_count": 26,
   "id": "fb0776f5-12ef-44c5-b247-6e3e00ee5cf8",
   "metadata": {},
   "outputs": [
    {
     "name": "stdout",
     "output_type": "stream",
     "text": [
      "home\tcomp1\tv-meas\tARI\tAMI\tsilhouette\n",
      "--------------------------------------------------\n",
      "0.760\t0.772\t0.766\t0.744\t0.763\t0.551\n"
     ]
    }
   ],
   "source": [
    "build_model(mean_shift_fn, iris_features, iris_target)"
   ]
  },
  {
   "cell_type": "code",
   "execution_count": 27,
   "id": "51a57327-b326-4103-9f9d-d75b46b581de",
   "metadata": {},
   "outputs": [],
   "source": [
    "def birch_fn(data, n_clusters=3):\n",
    "    model = Birch(n_clusters=n_clusters).fit(data)\n",
    "    return model"
   ]
  },
  {
   "cell_type": "code",
   "execution_count": 28,
   "id": "6a2d57f7-f551-4088-a81f-e27fba39596e",
   "metadata": {},
   "outputs": [
    {
     "name": "stdout",
     "output_type": "stream",
     "text": [
      "home\tcomp1\tv-meas\tARI\tAMI\tsilhouette\n",
      "--------------------------------------------------\n",
      "0.770\t0.798\t0.784\t0.720\t0.781\t0.551\n"
     ]
    }
   ],
   "source": [
    "build_model(birch_fn, iris_features, iris_target)"
   ]
  },
  {
   "cell_type": "code",
   "execution_count": 29,
   "id": "3a6725db-b19d-429c-802a-056442adac0d",
   "metadata": {},
   "outputs": [],
   "source": [
    "def affinity_propagation_fn(data, damping=0.6, max_iter=1000):\n",
    "    model = AffinityPropagation(damping=damping, max_iter=max_iter).fit(data)\n",
    "    return model"
   ]
  },
  {
   "cell_type": "code",
   "execution_count": 30,
   "id": "c1fa90ee-4287-4665-9c6d-4747de62c352",
   "metadata": {},
   "outputs": [
    {
     "name": "stdout",
     "output_type": "stream",
     "text": [
      "home\tcomp1\tv-meas\tARI\tAMI\tsilhouette\n",
      "--------------------------------------------------\n",
      "0.851\t0.492\t0.624\t0.439\t0.613\t0.345\n"
     ]
    }
   ],
   "source": [
    "build_model(affinity_propagation_fn, iris_features, iris_target)"
   ]
  },
  {
   "cell_type": "code",
   "execution_count": 44,
   "id": "980369d6-4c69-4805-906c-8a2fe89f9384",
   "metadata": {},
   "outputs": [],
   "source": [
    "def mini_batch_kmeans_fn(data, n_clusters=3, max_iter=1000, batch_size=60):\n",
    "    model = MiniBatchKMeans(n_clusters=n_clusters, max_iter=max_iter, batch_size=batch_size).fit(data)\n",
    "    return model"
   ]
  },
  {
   "cell_type": "code",
   "execution_count": 45,
   "id": "1d5b67c0-6db7-478b-84ee-8a0ea0c12b1f",
   "metadata": {},
   "outputs": [
    {
     "name": "stdout",
     "output_type": "stream",
     "text": [
      "home\tcomp1\tv-meas\tARI\tAMI\tsilhouette\n",
      "--------------------------------------------------\n",
      "0.778\t0.778\t0.778\t0.786\t0.775\t0.524\n"
     ]
    },
    {
     "name": "stderr",
     "output_type": "stream",
     "text": [
      "/home/gauravjain/projects/sci-kit/scilib/lib/python3.11/site-packages/sklearn/cluster/_kmeans.py:1930: FutureWarning: The default value of `n_init` will change from 3 to 'auto' in 1.4. Set the value of `n_init` explicitly to suppress the warning\n",
      "  super()._check_params_vs_input(X, default_n_init=3)\n"
     ]
    }
   ],
   "source": [
    "build_model(mini_batch_kmeans_fn, iris_features, iris_target)"
   ]
  }
 ],
 "metadata": {
  "kernelspec": {
   "display_name": "scilib",
   "language": "python",
   "name": "scilib"
  },
  "language_info": {
   "codemirror_mode": {
    "name": "ipython",
    "version": 3
   },
   "file_extension": ".py",
   "mimetype": "text/x-python",
   "name": "python",
   "nbconvert_exporter": "python",
   "pygments_lexer": "ipython3",
   "version": "3.11.4"
  }
 },
 "nbformat": 4,
 "nbformat_minor": 5
}
