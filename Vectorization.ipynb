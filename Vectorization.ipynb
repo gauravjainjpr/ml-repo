{
 "cells": [
  {
   "cell_type": "markdown",
   "id": "2c634311-c90d-4cc3-a1fd-9cb9915a3838",
   "metadata": {},
   "source": [
    "# Bag of Words Approach"
   ]
  },
  {
   "cell_type": "markdown",
   "id": "4ac600ae-6c51-4367-87be-d059e2ffd120",
   "metadata": {},
   "source": [
    "## Count Vectorizer"
   ]
  },
  {
   "cell_type": "code",
   "execution_count": 2,
   "id": "c18c8247-c155-4665-b7a5-6b83d81a5be3",
   "metadata": {},
   "outputs": [],
   "source": [
    "import sklearn\n",
    "from sklearn.feature_extraction.text import CountVectorizer"
   ]
  },
  {
   "cell_type": "code",
   "execution_count": 36,
   "id": "a4d4d31d-202f-4552-ae1f-290f97de371a",
   "metadata": {},
   "outputs": [],
   "source": [
    "train_text = ['If the only prayer you say throughout your life is \"Thank You,\" then that will be enough.',\n",
    "              'Good works is giving to the poor and the helpless, but divine works is showing them their worth to the One who matters.',\n",
    "              'You dont need to wait 24 hours to file a missing person report.',\n",
    "              'Venus spins the wrong way compared to other planets.',\n",
    "              'NASA mistakenly erased the original tape of the first steps on the moon.',\n",
    "              'In space, you dont need welding materials to get two metals to fuse. They will do it on their own if you place them close enough together.']\n",
    "\n",
    "count_vectorizer = CountVectorizer()"
   ]
  },
  {
   "cell_type": "code",
   "execution_count": 6,
   "id": "6ea1c48c-de82-465c-a8de-4d37809f845c",
   "metadata": {},
   "outputs": [
    {
     "data": {
      "text/html": [
       "<style>#sk-container-id-1 {color: black;}#sk-container-id-1 pre{padding: 0;}#sk-container-id-1 div.sk-toggleable {background-color: white;}#sk-container-id-1 label.sk-toggleable__label {cursor: pointer;display: block;width: 100%;margin-bottom: 0;padding: 0.3em;box-sizing: border-box;text-align: center;}#sk-container-id-1 label.sk-toggleable__label-arrow:before {content: \"▸\";float: left;margin-right: 0.25em;color: #696969;}#sk-container-id-1 label.sk-toggleable__label-arrow:hover:before {color: black;}#sk-container-id-1 div.sk-estimator:hover label.sk-toggleable__label-arrow:before {color: black;}#sk-container-id-1 div.sk-toggleable__content {max-height: 0;max-width: 0;overflow: hidden;text-align: left;background-color: #f0f8ff;}#sk-container-id-1 div.sk-toggleable__content pre {margin: 0.2em;color: black;border-radius: 0.25em;background-color: #f0f8ff;}#sk-container-id-1 input.sk-toggleable__control:checked~div.sk-toggleable__content {max-height: 200px;max-width: 100%;overflow: auto;}#sk-container-id-1 input.sk-toggleable__control:checked~label.sk-toggleable__label-arrow:before {content: \"▾\";}#sk-container-id-1 div.sk-estimator input.sk-toggleable__control:checked~label.sk-toggleable__label {background-color: #d4ebff;}#sk-container-id-1 div.sk-label input.sk-toggleable__control:checked~label.sk-toggleable__label {background-color: #d4ebff;}#sk-container-id-1 input.sk-hidden--visually {border: 0;clip: rect(1px 1px 1px 1px);clip: rect(1px, 1px, 1px, 1px);height: 1px;margin: -1px;overflow: hidden;padding: 0;position: absolute;width: 1px;}#sk-container-id-1 div.sk-estimator {font-family: monospace;background-color: #f0f8ff;border: 1px dotted black;border-radius: 0.25em;box-sizing: border-box;margin-bottom: 0.5em;}#sk-container-id-1 div.sk-estimator:hover {background-color: #d4ebff;}#sk-container-id-1 div.sk-parallel-item::after {content: \"\";width: 100%;border-bottom: 1px solid gray;flex-grow: 1;}#sk-container-id-1 div.sk-label:hover label.sk-toggleable__label {background-color: #d4ebff;}#sk-container-id-1 div.sk-serial::before {content: \"\";position: absolute;border-left: 1px solid gray;box-sizing: border-box;top: 0;bottom: 0;left: 50%;z-index: 0;}#sk-container-id-1 div.sk-serial {display: flex;flex-direction: column;align-items: center;background-color: white;padding-right: 0.2em;padding-left: 0.2em;position: relative;}#sk-container-id-1 div.sk-item {position: relative;z-index: 1;}#sk-container-id-1 div.sk-parallel {display: flex;align-items: stretch;justify-content: center;background-color: white;position: relative;}#sk-container-id-1 div.sk-item::before, #sk-container-id-1 div.sk-parallel-item::before {content: \"\";position: absolute;border-left: 1px solid gray;box-sizing: border-box;top: 0;bottom: 0;left: 50%;z-index: -1;}#sk-container-id-1 div.sk-parallel-item {display: flex;flex-direction: column;z-index: 1;position: relative;background-color: white;}#sk-container-id-1 div.sk-parallel-item:first-child::after {align-self: flex-end;width: 50%;}#sk-container-id-1 div.sk-parallel-item:last-child::after {align-self: flex-start;width: 50%;}#sk-container-id-1 div.sk-parallel-item:only-child::after {width: 0;}#sk-container-id-1 div.sk-dashed-wrapped {border: 1px dashed gray;margin: 0 0.4em 0.5em 0.4em;box-sizing: border-box;padding-bottom: 0.4em;background-color: white;}#sk-container-id-1 div.sk-label label {font-family: monospace;font-weight: bold;display: inline-block;line-height: 1.2em;}#sk-container-id-1 div.sk-label-container {text-align: center;}#sk-container-id-1 div.sk-container {/* jupyter's `normalize.less` sets `[hidden] { display: none; }` but bootstrap.min.css set `[hidden] { display: none !important; }` so we also need the `!important` here to be able to override the default hidden behavior on the sphinx rendered scikit-learn.org. See: https://github.com/scikit-learn/scikit-learn/issues/21755 */display: inline-block !important;position: relative;}#sk-container-id-1 div.sk-text-repr-fallback {display: none;}</style><div id=\"sk-container-id-1\" class=\"sk-top-container\"><div class=\"sk-text-repr-fallback\"><pre>CountVectorizer()</pre><b>In a Jupyter environment, please rerun this cell to show the HTML representation or trust the notebook. <br />On GitHub, the HTML representation is unable to render, please try loading this page with nbviewer.org.</b></div><div class=\"sk-container\" hidden><div class=\"sk-item\"><div class=\"sk-estimator sk-toggleable\"><input class=\"sk-toggleable__control sk-hidden--visually\" id=\"sk-estimator-id-1\" type=\"checkbox\" checked><label for=\"sk-estimator-id-1\" class=\"sk-toggleable__label sk-toggleable__label-arrow\">CountVectorizer</label><div class=\"sk-toggleable__content\"><pre>CountVectorizer()</pre></div></div></div></div></div>"
      ],
      "text/plain": [
       "CountVectorizer()"
      ]
     },
     "execution_count": 6,
     "metadata": {},
     "output_type": "execute_result"
    }
   ],
   "source": [
    "count_vectorizer.fit(train_text)"
   ]
  },
  {
   "cell_type": "code",
   "execution_count": 7,
   "id": "ef403fb1-4e2e-4817-a8f0-e5399318d104",
   "metadata": {},
   "outputs": [
    {
     "data": {
      "text/plain": [
       "array(['24', 'and', 'be', 'but', 'close', 'compared', 'divine', 'do',\n",
       "       'dont', 'enough', 'erased', 'file', 'first', 'fuse', 'get',\n",
       "       'giving', 'good', 'helpless', 'hours', 'if', 'in', 'is', 'it',\n",
       "       'life', 'materials', 'matters', 'metals', 'missing', 'mistakenly',\n",
       "       'moon', 'nasa', 'need', 'of', 'on', 'one', 'only', 'original',\n",
       "       'other', 'own', 'person', 'place', 'planets', 'poor', 'prayer',\n",
       "       'report', 'say', 'showing', 'space', 'spins', 'steps', 'tape',\n",
       "       'thank', 'that', 'the', 'their', 'them', 'then', 'they',\n",
       "       'throughout', 'to', 'together', 'two', 'venus', 'wait', 'way',\n",
       "       'welding', 'who', 'will', 'works', 'worth', 'wrong', 'you', 'your'],\n",
       "      dtype=object)"
      ]
     },
     "execution_count": 7,
     "metadata": {},
     "output_type": "execute_result"
    }
   ],
   "source": [
    "count_vectorizer.get_feature_names_out()"
   ]
  },
  {
   "cell_type": "code",
   "execution_count": 8,
   "id": "70a6c907-413a-4492-9c37-f6c37ccb279f",
   "metadata": {},
   "outputs": [
    {
     "data": {
      "text/plain": [
       "{'if': 19,\n",
       " 'the': 53,\n",
       " 'only': 35,\n",
       " 'prayer': 43,\n",
       " 'you': 71,\n",
       " 'say': 45,\n",
       " 'throughout': 58,\n",
       " 'your': 72,\n",
       " 'life': 23,\n",
       " 'is': 21,\n",
       " 'thank': 51,\n",
       " 'then': 56,\n",
       " 'that': 52,\n",
       " 'will': 67,\n",
       " 'be': 2,\n",
       " 'enough': 9,\n",
       " 'good': 16,\n",
       " 'works': 68,\n",
       " 'giving': 15,\n",
       " 'to': 59,\n",
       " 'poor': 42,\n",
       " 'and': 1,\n",
       " 'helpless': 17,\n",
       " 'but': 3,\n",
       " 'divine': 6,\n",
       " 'showing': 46,\n",
       " 'them': 55,\n",
       " 'their': 54,\n",
       " 'worth': 69,\n",
       " 'one': 34,\n",
       " 'who': 66,\n",
       " 'matters': 25,\n",
       " 'dont': 8,\n",
       " 'need': 31,\n",
       " 'wait': 63,\n",
       " '24': 0,\n",
       " 'hours': 18,\n",
       " 'file': 11,\n",
       " 'missing': 27,\n",
       " 'person': 39,\n",
       " 'report': 44,\n",
       " 'venus': 62,\n",
       " 'spins': 48,\n",
       " 'wrong': 70,\n",
       " 'way': 64,\n",
       " 'compared': 5,\n",
       " 'other': 37,\n",
       " 'planets': 41,\n",
       " 'nasa': 30,\n",
       " 'mistakenly': 28,\n",
       " 'erased': 10,\n",
       " 'original': 36,\n",
       " 'tape': 50,\n",
       " 'of': 32,\n",
       " 'first': 12,\n",
       " 'steps': 49,\n",
       " 'on': 33,\n",
       " 'moon': 29,\n",
       " 'in': 20,\n",
       " 'space': 47,\n",
       " 'welding': 65,\n",
       " 'materials': 24,\n",
       " 'get': 14,\n",
       " 'two': 61,\n",
       " 'metals': 26,\n",
       " 'fuse': 13,\n",
       " 'they': 57,\n",
       " 'do': 7,\n",
       " 'it': 22,\n",
       " 'own': 38,\n",
       " 'place': 40,\n",
       " 'close': 4,\n",
       " 'together': 60}"
      ]
     },
     "execution_count": 8,
     "metadata": {},
     "output_type": "execute_result"
    }
   ],
   "source": [
    "count_vectorizer.vocabulary_"
   ]
  },
  {
   "cell_type": "code",
   "execution_count": 9,
   "id": "6c97b6ad-3c19-4fe3-aced-7cb1a909f4dc",
   "metadata": {},
   "outputs": [],
   "source": [
    "transformed_vector = count_vectorizer.transform(train_text)"
   ]
  },
  {
   "cell_type": "code",
   "execution_count": 10,
   "id": "7c191165-4096-4cd6-bce2-d6ea9ba78873",
   "metadata": {},
   "outputs": [
    {
     "name": "stdout",
     "output_type": "stream",
     "text": [
      "(6, 73)\n"
     ]
    }
   ],
   "source": [
    "print(transformed_vector.shape)"
   ]
  },
  {
   "cell_type": "code",
   "execution_count": 11,
   "id": "b00584d5-77ce-458a-aa1c-4ea12f5db0fd",
   "metadata": {},
   "outputs": [
    {
     "name": "stdout",
     "output_type": "stream",
     "text": [
      "[[0 0 1 0 0 0 0 0 0 1 0 0 0 0 0 0 0 0 0 1 0 1 0 1 0 0 0 0 0 0 0 0 0 0 0 1\n",
      "  0 0 0 0 0 0 0 1 0 1 0 0 0 0 0 1 1 1 0 0 1 0 1 0 0 0 0 0 0 0 0 1 0 0 0 2\n",
      "  1]\n",
      " [0 1 0 1 0 0 1 0 0 0 0 0 0 0 0 1 1 1 0 0 0 2 0 0 0 1 0 0 0 0 0 0 0 0 1 0\n",
      "  0 0 0 0 0 0 1 0 0 0 1 0 0 0 0 0 0 3 1 1 0 0 0 2 0 0 0 0 0 0 1 0 2 1 0 0\n",
      "  0]\n",
      " [1 0 0 0 0 0 0 0 1 0 0 1 0 0 0 0 0 0 1 0 0 0 0 0 0 0 0 1 0 0 0 1 0 0 0 0\n",
      "  0 0 0 1 0 0 0 0 1 0 0 0 0 0 0 0 0 0 0 0 0 0 0 2 0 0 0 1 0 0 0 0 0 0 0 1\n",
      "  0]\n",
      " [0 0 0 0 0 1 0 0 0 0 0 0 0 0 0 0 0 0 0 0 0 0 0 0 0 0 0 0 0 0 0 0 0 0 0 0\n",
      "  0 1 0 0 0 1 0 0 0 0 0 0 1 0 0 0 0 1 0 0 0 0 0 1 0 0 1 0 1 0 0 0 0 0 1 0\n",
      "  0]\n",
      " [0 0 0 0 0 0 0 0 0 0 1 0 1 0 0 0 0 0 0 0 0 0 0 0 0 0 0 0 1 1 1 0 1 1 0 0\n",
      "  1 0 0 0 0 0 0 0 0 0 0 0 0 1 1 0 0 3 0 0 0 0 0 0 0 0 0 0 0 0 0 0 0 0 0 0\n",
      "  0]\n",
      " [0 0 0 0 1 0 0 1 1 1 0 0 0 1 1 0 0 0 0 1 1 0 1 0 1 0 1 0 0 0 0 1 0 1 0 0\n",
      "  0 0 1 0 1 0 0 0 0 0 0 1 0 0 0 0 0 0 1 1 0 1 0 2 1 1 0 0 0 1 0 1 0 0 0 2\n",
      "  0]]\n"
     ]
    }
   ],
   "source": [
    "print(transformed_vector.toarray())"
   ]
  },
  {
   "cell_type": "code",
   "execution_count": 12,
   "id": "e3e5c414-2b62-48d2-9b1e-678f2370d092",
   "metadata": {},
   "outputs": [
    {
     "data": {
      "text/plain": [
       "[array(['be', 'enough', 'if', 'is', 'life', 'only', 'prayer', 'say',\n",
       "        'thank', 'that', 'the', 'then', 'throughout', 'will', 'you',\n",
       "        'your'], dtype='<U10'),\n",
       " array(['and', 'but', 'divine', 'giving', 'good', 'helpless', 'is',\n",
       "        'matters', 'one', 'poor', 'showing', 'the', 'their', 'them', 'to',\n",
       "        'who', 'works', 'worth'], dtype='<U10'),\n",
       " array(['24', 'dont', 'file', 'hours', 'missing', 'need', 'person',\n",
       "        'report', 'to', 'wait', 'you'], dtype='<U10'),\n",
       " array(['compared', 'other', 'planets', 'spins', 'the', 'to', 'venus',\n",
       "        'way', 'wrong'], dtype='<U10'),\n",
       " array(['erased', 'first', 'mistakenly', 'moon', 'nasa', 'of', 'on',\n",
       "        'original', 'steps', 'tape', 'the'], dtype='<U10'),\n",
       " array(['close', 'do', 'dont', 'enough', 'fuse', 'get', 'if', 'in', 'it',\n",
       "        'materials', 'metals', 'need', 'on', 'own', 'place', 'space',\n",
       "        'their', 'them', 'they', 'to', 'together', 'two', 'welding',\n",
       "        'will', 'you'], dtype='<U10')]"
      ]
     },
     "execution_count": 12,
     "metadata": {},
     "output_type": "execute_result"
    }
   ],
   "source": [
    "count_vectorizer.inverse_transform(transformed_vector)"
   ]
  },
  {
   "cell_type": "code",
   "execution_count": 13,
   "id": "4af29b8b-2b85-467b-95dc-c826b111355b",
   "metadata": {},
   "outputs": [
    {
     "data": {
      "text/plain": [
       "array([[0, 0, 0, 0, 0, 0, 0, 0, 0, 0, 0, 0, 0, 0, 0, 0, 0, 0, 0, 0, 0, 0,\n",
       "        0, 0, 0, 0, 0, 0, 0, 0, 0, 0, 0, 0, 0, 0, 0, 0, 0, 0, 0, 0, 0, 0,\n",
       "        0, 0, 0, 0, 0, 0, 0, 0, 0, 0, 0, 0, 0, 0, 0, 0, 0, 0, 0, 0, 0, 0,\n",
       "        0, 0, 0, 0, 0, 0, 0]])"
      ]
     },
     "execution_count": 13,
     "metadata": {},
     "output_type": "execute_result"
    }
   ],
   "source": [
    "test_text = ['No cost, like all Kaggle Learn Courses.']\n",
    "\n",
    "count_vectorizer.transform(test_text).toarray()"
   ]
  },
  {
   "cell_type": "code",
   "execution_count": 14,
   "id": "05443b10-a2ed-47fe-8561-72602305d66b",
   "metadata": {},
   "outputs": [
    {
     "data": {
      "text/html": [
       "<style>#sk-container-id-2 {color: black;}#sk-container-id-2 pre{padding: 0;}#sk-container-id-2 div.sk-toggleable {background-color: white;}#sk-container-id-2 label.sk-toggleable__label {cursor: pointer;display: block;width: 100%;margin-bottom: 0;padding: 0.3em;box-sizing: border-box;text-align: center;}#sk-container-id-2 label.sk-toggleable__label-arrow:before {content: \"▸\";float: left;margin-right: 0.25em;color: #696969;}#sk-container-id-2 label.sk-toggleable__label-arrow:hover:before {color: black;}#sk-container-id-2 div.sk-estimator:hover label.sk-toggleable__label-arrow:before {color: black;}#sk-container-id-2 div.sk-toggleable__content {max-height: 0;max-width: 0;overflow: hidden;text-align: left;background-color: #f0f8ff;}#sk-container-id-2 div.sk-toggleable__content pre {margin: 0.2em;color: black;border-radius: 0.25em;background-color: #f0f8ff;}#sk-container-id-2 input.sk-toggleable__control:checked~div.sk-toggleable__content {max-height: 200px;max-width: 100%;overflow: auto;}#sk-container-id-2 input.sk-toggleable__control:checked~label.sk-toggleable__label-arrow:before {content: \"▾\";}#sk-container-id-2 div.sk-estimator input.sk-toggleable__control:checked~label.sk-toggleable__label {background-color: #d4ebff;}#sk-container-id-2 div.sk-label input.sk-toggleable__control:checked~label.sk-toggleable__label {background-color: #d4ebff;}#sk-container-id-2 input.sk-hidden--visually {border: 0;clip: rect(1px 1px 1px 1px);clip: rect(1px, 1px, 1px, 1px);height: 1px;margin: -1px;overflow: hidden;padding: 0;position: absolute;width: 1px;}#sk-container-id-2 div.sk-estimator {font-family: monospace;background-color: #f0f8ff;border: 1px dotted black;border-radius: 0.25em;box-sizing: border-box;margin-bottom: 0.5em;}#sk-container-id-2 div.sk-estimator:hover {background-color: #d4ebff;}#sk-container-id-2 div.sk-parallel-item::after {content: \"\";width: 100%;border-bottom: 1px solid gray;flex-grow: 1;}#sk-container-id-2 div.sk-label:hover label.sk-toggleable__label {background-color: #d4ebff;}#sk-container-id-2 div.sk-serial::before {content: \"\";position: absolute;border-left: 1px solid gray;box-sizing: border-box;top: 0;bottom: 0;left: 50%;z-index: 0;}#sk-container-id-2 div.sk-serial {display: flex;flex-direction: column;align-items: center;background-color: white;padding-right: 0.2em;padding-left: 0.2em;position: relative;}#sk-container-id-2 div.sk-item {position: relative;z-index: 1;}#sk-container-id-2 div.sk-parallel {display: flex;align-items: stretch;justify-content: center;background-color: white;position: relative;}#sk-container-id-2 div.sk-item::before, #sk-container-id-2 div.sk-parallel-item::before {content: \"\";position: absolute;border-left: 1px solid gray;box-sizing: border-box;top: 0;bottom: 0;left: 50%;z-index: -1;}#sk-container-id-2 div.sk-parallel-item {display: flex;flex-direction: column;z-index: 1;position: relative;background-color: white;}#sk-container-id-2 div.sk-parallel-item:first-child::after {align-self: flex-end;width: 50%;}#sk-container-id-2 div.sk-parallel-item:last-child::after {align-self: flex-start;width: 50%;}#sk-container-id-2 div.sk-parallel-item:only-child::after {width: 0;}#sk-container-id-2 div.sk-dashed-wrapped {border: 1px dashed gray;margin: 0 0.4em 0.5em 0.4em;box-sizing: border-box;padding-bottom: 0.4em;background-color: white;}#sk-container-id-2 div.sk-label label {font-family: monospace;font-weight: bold;display: inline-block;line-height: 1.2em;}#sk-container-id-2 div.sk-label-container {text-align: center;}#sk-container-id-2 div.sk-container {/* jupyter's `normalize.less` sets `[hidden] { display: none; }` but bootstrap.min.css set `[hidden] { display: none !important; }` so we also need the `!important` here to be able to override the default hidden behavior on the sphinx rendered scikit-learn.org. See: https://github.com/scikit-learn/scikit-learn/issues/21755 */display: inline-block !important;position: relative;}#sk-container-id-2 div.sk-text-repr-fallback {display: none;}</style><div id=\"sk-container-id-2\" class=\"sk-top-container\"><div class=\"sk-text-repr-fallback\"><pre>CountVectorizer()</pre><b>In a Jupyter environment, please rerun this cell to show the HTML representation or trust the notebook. <br />On GitHub, the HTML representation is unable to render, please try loading this page with nbviewer.org.</b></div><div class=\"sk-container\" hidden><div class=\"sk-item\"><div class=\"sk-estimator sk-toggleable\"><input class=\"sk-toggleable__control sk-hidden--visually\" id=\"sk-estimator-id-2\" type=\"checkbox\" checked><label for=\"sk-estimator-id-2\" class=\"sk-toggleable__label sk-toggleable__label-arrow\">CountVectorizer</label><div class=\"sk-toggleable__content\"><pre>CountVectorizer()</pre></div></div></div></div></div>"
      ],
      "text/plain": [
       "CountVectorizer()"
      ]
     },
     "execution_count": 14,
     "metadata": {},
     "output_type": "execute_result"
    }
   ],
   "source": [
    "count_vectorizer.fit(train_text + test_text)"
   ]
  },
  {
   "cell_type": "code",
   "execution_count": 15,
   "id": "17fde340-284a-4b36-9866-78df1652cfb7",
   "metadata": {},
   "outputs": [
    {
     "data": {
      "text/plain": [
       "{'if': 22,\n",
       " 'the': 60,\n",
       " 'only': 42,\n",
       " 'prayer': 50,\n",
       " 'you': 78,\n",
       " 'say': 52,\n",
       " 'throughout': 65,\n",
       " 'your': 79,\n",
       " 'life': 28,\n",
       " 'is': 24,\n",
       " 'thank': 58,\n",
       " 'then': 63,\n",
       " 'that': 59,\n",
       " 'will': 74,\n",
       " 'be': 3,\n",
       " 'enough': 12,\n",
       " 'good': 19,\n",
       " 'works': 75,\n",
       " 'giving': 18,\n",
       " 'to': 66,\n",
       " 'poor': 49,\n",
       " 'and': 2,\n",
       " 'helpless': 20,\n",
       " 'but': 4,\n",
       " 'divine': 9,\n",
       " 'showing': 53,\n",
       " 'them': 62,\n",
       " 'their': 61,\n",
       " 'worth': 76,\n",
       " 'one': 41,\n",
       " 'who': 73,\n",
       " 'matters': 31,\n",
       " 'dont': 11,\n",
       " 'need': 37,\n",
       " 'wait': 70,\n",
       " '24': 0,\n",
       " 'hours': 21,\n",
       " 'file': 14,\n",
       " 'missing': 33,\n",
       " 'person': 46,\n",
       " 'report': 51,\n",
       " 'venus': 69,\n",
       " 'spins': 55,\n",
       " 'wrong': 77,\n",
       " 'way': 71,\n",
       " 'compared': 6,\n",
       " 'other': 44,\n",
       " 'planets': 48,\n",
       " 'nasa': 36,\n",
       " 'mistakenly': 34,\n",
       " 'erased': 13,\n",
       " 'original': 43,\n",
       " 'tape': 57,\n",
       " 'of': 39,\n",
       " 'first': 15,\n",
       " 'steps': 56,\n",
       " 'on': 40,\n",
       " 'moon': 35,\n",
       " 'in': 23,\n",
       " 'space': 54,\n",
       " 'welding': 72,\n",
       " 'materials': 30,\n",
       " 'get': 17,\n",
       " 'two': 68,\n",
       " 'metals': 32,\n",
       " 'fuse': 16,\n",
       " 'they': 64,\n",
       " 'do': 10,\n",
       " 'it': 25,\n",
       " 'own': 45,\n",
       " 'place': 47,\n",
       " 'close': 5,\n",
       " 'together': 67,\n",
       " 'no': 38,\n",
       " 'cost': 7,\n",
       " 'like': 29,\n",
       " 'all': 1,\n",
       " 'kaggle': 26,\n",
       " 'learn': 27,\n",
       " 'courses': 8}"
      ]
     },
     "execution_count": 15,
     "metadata": {},
     "output_type": "execute_result"
    }
   ],
   "source": [
    "count_vectorizer.vocabulary_"
   ]
  },
  {
   "cell_type": "code",
   "execution_count": 34,
   "id": "7bba06b8-f226-4a9e-957c-840184b0795a",
   "metadata": {},
   "outputs": [],
   "source": [
    "count_vectorizer.transform(test_text).toarray()"
   ]
  },
  {
   "cell_type": "markdown",
   "id": "c0a13a71-e75a-4709-ad8c-92d2e86994ad",
   "metadata": {},
   "source": [
    "## Tfidf Vectorizer"
   ]
  },
  {
   "cell_type": "code",
   "execution_count": 35,
   "id": "687968b8-07ad-4181-940b-93d3cfb17f24",
   "metadata": {},
   "outputs": [],
   "source": [
    "from sklearn.feature_extraction.text import TfidfVectorizer"
   ]
  },
  {
   "cell_type": "code",
   "execution_count": 37,
   "id": "99d7dfe7-53ac-43da-9679-3a544161cf6e",
   "metadata": {},
   "outputs": [],
   "source": [
    "tfidf_vectorizer = TfidfVectorizer()"
   ]
  },
  {
   "cell_type": "code",
   "execution_count": 39,
   "id": "fe365cb9-bc1f-484e-82d0-1cba713ed295",
   "metadata": {},
   "outputs": [],
   "source": [
    "transformed_vector = tfidf_vectorizer.fit_transform(train_text)"
   ]
  },
  {
   "cell_type": "code",
   "execution_count": 40,
   "id": "9efb4b35-1617-45d8-bf34-a2a78c5273dc",
   "metadata": {},
   "outputs": [
    {
     "data": {
      "text/plain": [
       "{'if': 19,\n",
       " 'the': 53,\n",
       " 'only': 35,\n",
       " 'prayer': 43,\n",
       " 'you': 71,\n",
       " 'say': 45,\n",
       " 'throughout': 58,\n",
       " 'your': 72,\n",
       " 'life': 23,\n",
       " 'is': 21,\n",
       " 'thank': 51,\n",
       " 'then': 56,\n",
       " 'that': 52,\n",
       " 'will': 67,\n",
       " 'be': 2,\n",
       " 'enough': 9,\n",
       " 'good': 16,\n",
       " 'works': 68,\n",
       " 'giving': 15,\n",
       " 'to': 59,\n",
       " 'poor': 42,\n",
       " 'and': 1,\n",
       " 'helpless': 17,\n",
       " 'but': 3,\n",
       " 'divine': 6,\n",
       " 'showing': 46,\n",
       " 'them': 55,\n",
       " 'their': 54,\n",
       " 'worth': 69,\n",
       " 'one': 34,\n",
       " 'who': 66,\n",
       " 'matters': 25,\n",
       " 'dont': 8,\n",
       " 'need': 31,\n",
       " 'wait': 63,\n",
       " '24': 0,\n",
       " 'hours': 18,\n",
       " 'file': 11,\n",
       " 'missing': 27,\n",
       " 'person': 39,\n",
       " 'report': 44,\n",
       " 'venus': 62,\n",
       " 'spins': 48,\n",
       " 'wrong': 70,\n",
       " 'way': 64,\n",
       " 'compared': 5,\n",
       " 'other': 37,\n",
       " 'planets': 41,\n",
       " 'nasa': 30,\n",
       " 'mistakenly': 28,\n",
       " 'erased': 10,\n",
       " 'original': 36,\n",
       " 'tape': 50,\n",
       " 'of': 32,\n",
       " 'first': 12,\n",
       " 'steps': 49,\n",
       " 'on': 33,\n",
       " 'moon': 29,\n",
       " 'in': 20,\n",
       " 'space': 47,\n",
       " 'welding': 65,\n",
       " 'materials': 24,\n",
       " 'get': 14,\n",
       " 'two': 61,\n",
       " 'metals': 26,\n",
       " 'fuse': 13,\n",
       " 'they': 57,\n",
       " 'do': 7,\n",
       " 'it': 22,\n",
       " 'own': 38,\n",
       " 'place': 40,\n",
       " 'close': 4,\n",
       " 'together': 60}"
      ]
     },
     "execution_count": 40,
     "metadata": {},
     "output_type": "execute_result"
    }
   ],
   "source": [
    "tfidf_vectorizer.vocabulary_"
   ]
  },
  {
   "cell_type": "code",
   "execution_count": 41,
   "id": "fd235588-c176-4ee4-83b5-c22d072cefd5",
   "metadata": {},
   "outputs": [
    {
     "data": {
      "text/plain": [
       "array([[0.        , 0.        , 0.2585539 , 0.        , 0.        ,\n",
       "        0.        , 0.        , 0.        , 0.        , 0.2120179 ,\n",
       "        0.        , 0.        , 0.        , 0.        , 0.        ,\n",
       "        0.        , 0.        , 0.        , 0.        , 0.2120179 ,\n",
       "        0.        , 0.2120179 , 0.        , 0.2585539 , 0.        ,\n",
       "        0.        , 0.        , 0.        , 0.        , 0.        ,\n",
       "        0.        , 0.        , 0.        , 0.        , 0.        ,\n",
       "        0.2585539 , 0.        , 0.        , 0.        , 0.        ,\n",
       "        0.        , 0.        , 0.        , 0.2585539 , 0.        ,\n",
       "        0.2585539 , 0.        , 0.        , 0.        , 0.        ,\n",
       "        0.        , 0.2585539 , 0.2585539 , 0.15338947, 0.        ,\n",
       "        0.        , 0.2585539 , 0.        , 0.2585539 , 0.        ,\n",
       "        0.        , 0.        , 0.        , 0.        , 0.        ,\n",
       "        0.        , 0.        , 0.2120179 , 0.        , 0.        ,\n",
       "        0.        , 0.35800016, 0.2585539 ],\n",
       "       [0.        , 0.2015786 , 0.        , 0.2015786 , 0.        ,\n",
       "        0.        , 0.2015786 , 0.        , 0.        , 0.        ,\n",
       "        0.        , 0.        , 0.        , 0.        , 0.        ,\n",
       "        0.2015786 , 0.2015786 , 0.2015786 , 0.        , 0.        ,\n",
       "        0.        , 0.33059467, 0.        , 0.        , 0.        ,\n",
       "        0.2015786 , 0.        , 0.        , 0.        , 0.        ,\n",
       "        0.        , 0.        , 0.        , 0.        , 0.2015786 ,\n",
       "        0.        , 0.        , 0.        , 0.        , 0.        ,\n",
       "        0.        , 0.        , 0.2015786 , 0.        , 0.        ,\n",
       "        0.        , 0.2015786 , 0.        , 0.        , 0.        ,\n",
       "        0.        , 0.        , 0.        , 0.35876504, 0.16529733,\n",
       "        0.16529733, 0.        , 0.        , 0.        , 0.23917669,\n",
       "        0.        , 0.        , 0.        , 0.        , 0.        ,\n",
       "        0.        , 0.2015786 , 0.        , 0.4031572 , 0.2015786 ,\n",
       "        0.        , 0.        , 0.        ],\n",
       "       [0.31262261, 0.        , 0.        , 0.        , 0.        ,\n",
       "        0.        , 0.        , 0.        , 0.25635502, 0.        ,\n",
       "        0.        , 0.31262261, 0.        , 0.        , 0.        ,\n",
       "        0.        , 0.        , 0.        , 0.31262261, 0.        ,\n",
       "        0.        , 0.        , 0.        , 0.        , 0.        ,\n",
       "        0.        , 0.        , 0.31262261, 0.        , 0.        ,\n",
       "        0.        , 0.25635502, 0.        , 0.        , 0.        ,\n",
       "        0.        , 0.        , 0.        , 0.        , 0.31262261,\n",
       "        0.        , 0.        , 0.        , 0.        , 0.31262261,\n",
       "        0.        , 0.        , 0.        , 0.        , 0.        ,\n",
       "        0.        , 0.        , 0.        , 0.        , 0.        ,\n",
       "        0.        , 0.        , 0.        , 0.        , 0.37093245,\n",
       "        0.        , 0.        , 0.        , 0.31262261, 0.        ,\n",
       "        0.        , 0.        , 0.        , 0.        , 0.        ,\n",
       "        0.        , 0.21643252, 0.        ],\n",
       "       [0.        , 0.        , 0.        , 0.        , 0.        ,\n",
       "        0.36028346, 0.        , 0.        , 0.        , 0.        ,\n",
       "        0.        , 0.        , 0.        , 0.        , 0.        ,\n",
       "        0.        , 0.        , 0.        , 0.        , 0.        ,\n",
       "        0.        , 0.        , 0.        , 0.        , 0.        ,\n",
       "        0.        , 0.        , 0.        , 0.        , 0.        ,\n",
       "        0.        , 0.        , 0.        , 0.        , 0.        ,\n",
       "        0.        , 0.        , 0.36028346, 0.        , 0.        ,\n",
       "        0.        , 0.36028346, 0.        , 0.        , 0.        ,\n",
       "        0.        , 0.        , 0.        , 0.36028346, 0.        ,\n",
       "        0.        , 0.        , 0.        , 0.21374146, 0.        ,\n",
       "        0.        , 0.        , 0.        , 0.        , 0.21374146,\n",
       "        0.        , 0.        , 0.36028346, 0.        , 0.36028346,\n",
       "        0.        , 0.        , 0.        , 0.        , 0.        ,\n",
       "        0.36028346, 0.        , 0.        ],\n",
       "       [0.        , 0.        , 0.        , 0.        , 0.        ,\n",
       "        0.        , 0.        , 0.        , 0.        , 0.        ,\n",
       "        0.27907245, 0.        , 0.27907245, 0.        , 0.        ,\n",
       "        0.        , 0.        , 0.        , 0.        , 0.        ,\n",
       "        0.        , 0.        , 0.        , 0.        , 0.        ,\n",
       "        0.        , 0.        , 0.        , 0.27907245, 0.27907245,\n",
       "        0.27907245, 0.        , 0.27907245, 0.2288434 , 0.        ,\n",
       "        0.        , 0.27907245, 0.        , 0.        , 0.        ,\n",
       "        0.        , 0.        , 0.        , 0.        , 0.        ,\n",
       "        0.        , 0.        , 0.        , 0.        , 0.27907245,\n",
       "        0.27907245, 0.        , 0.        , 0.49668685, 0.        ,\n",
       "        0.        , 0.        , 0.        , 0.        , 0.        ,\n",
       "        0.        , 0.        , 0.        , 0.        , 0.        ,\n",
       "        0.        , 0.        , 0.        , 0.        , 0.        ,\n",
       "        0.        , 0.        , 0.        ],\n",
       "       [0.        , 0.        , 0.        , 0.        , 0.20539295,\n",
       "        0.        , 0.        , 0.20539295, 0.16842515, 0.16842515,\n",
       "        0.        , 0.        , 0.        , 0.20539295, 0.20539295,\n",
       "        0.        , 0.        , 0.        , 0.        , 0.16842515,\n",
       "        0.20539295, 0.        , 0.20539295, 0.        , 0.20539295,\n",
       "        0.        , 0.20539295, 0.        , 0.        , 0.        ,\n",
       "        0.        , 0.16842515, 0.        , 0.16842515, 0.        ,\n",
       "        0.        , 0.        , 0.        , 0.20539295, 0.        ,\n",
       "        0.20539295, 0.        , 0.        , 0.        , 0.        ,\n",
       "        0.        , 0.        , 0.20539295, 0.        , 0.        ,\n",
       "        0.        , 0.        , 0.        , 0.        , 0.16842515,\n",
       "        0.16842515, 0.        , 0.20539295, 0.        , 0.24370249,\n",
       "        0.20539295, 0.20539295, 0.        , 0.        , 0.        ,\n",
       "        0.20539295, 0.        , 0.16842515, 0.        , 0.        ,\n",
       "        0.        , 0.28439218, 0.        ]])"
      ]
     },
     "execution_count": 41,
     "metadata": {},
     "output_type": "execute_result"
    }
   ],
   "source": [
    "transformed_vector.toarray()"
   ]
  },
  {
   "cell_type": "code",
   "execution_count": 42,
   "id": "0e86efa9-5044-4e63-a7df-56b164f07e9d",
   "metadata": {},
   "outputs": [
    {
     "data": {
      "text/plain": [
       "array([2.25276297, 2.25276297, 2.25276297, 2.25276297, 2.25276297,\n",
       "       2.25276297, 2.25276297, 2.25276297, 1.84729786, 1.84729786,\n",
       "       2.25276297, 2.25276297, 2.25276297, 2.25276297, 2.25276297,\n",
       "       2.25276297, 2.25276297, 2.25276297, 2.25276297, 1.84729786,\n",
       "       2.25276297, 1.84729786, 2.25276297, 2.25276297, 2.25276297,\n",
       "       2.25276297, 2.25276297, 2.25276297, 2.25276297, 2.25276297,\n",
       "       2.25276297, 1.84729786, 2.25276297, 1.84729786, 2.25276297,\n",
       "       2.25276297, 2.25276297, 2.25276297, 2.25276297, 2.25276297,\n",
       "       2.25276297, 2.25276297, 2.25276297, 2.25276297, 2.25276297,\n",
       "       2.25276297, 2.25276297, 2.25276297, 2.25276297, 2.25276297,\n",
       "       2.25276297, 2.25276297, 2.25276297, 1.33647224, 1.84729786,\n",
       "       1.84729786, 2.25276297, 2.25276297, 2.25276297, 1.33647224,\n",
       "       2.25276297, 2.25276297, 2.25276297, 2.25276297, 2.25276297,\n",
       "       2.25276297, 2.25276297, 1.84729786, 2.25276297, 2.25276297,\n",
       "       2.25276297, 1.55961579, 2.25276297])"
      ]
     },
     "execution_count": 42,
     "metadata": {},
     "output_type": "execute_result"
    }
   ],
   "source": [
    "tfidf_vectorizer.idf_"
   ]
  },
  {
   "cell_type": "code",
   "execution_count": 43,
   "id": "ce397f9e-65f2-41ac-baa7-675e99e34148",
   "metadata": {},
   "outputs": [
    {
     "data": {
      "text/plain": [
       "[('24', 2.252762968495368),\n",
       " ('and', 2.252762968495368),\n",
       " ('be', 2.252762968495368),\n",
       " ('but', 2.252762968495368),\n",
       " ('close', 2.252762968495368),\n",
       " ('compared', 2.252762968495368),\n",
       " ('divine', 2.252762968495368),\n",
       " ('do', 2.252762968495368),\n",
       " ('dont', 1.8472978603872037),\n",
       " ('enough', 1.8472978603872037),\n",
       " ('erased', 2.252762968495368),\n",
       " ('file', 2.252762968495368),\n",
       " ('first', 2.252762968495368),\n",
       " ('fuse', 2.252762968495368),\n",
       " ('get', 2.252762968495368),\n",
       " ('giving', 2.252762968495368),\n",
       " ('good', 2.252762968495368),\n",
       " ('helpless', 2.252762968495368),\n",
       " ('hours', 2.252762968495368),\n",
       " ('if', 1.8472978603872037),\n",
       " ('in', 2.252762968495368),\n",
       " ('is', 1.8472978603872037),\n",
       " ('it', 2.252762968495368),\n",
       " ('life', 2.252762968495368),\n",
       " ('materials', 2.252762968495368),\n",
       " ('matters', 2.252762968495368),\n",
       " ('metals', 2.252762968495368),\n",
       " ('missing', 2.252762968495368),\n",
       " ('mistakenly', 2.252762968495368),\n",
       " ('moon', 2.252762968495368),\n",
       " ('nasa', 2.252762968495368),\n",
       " ('need', 1.8472978603872037),\n",
       " ('of', 2.252762968495368),\n",
       " ('on', 1.8472978603872037),\n",
       " ('one', 2.252762968495368),\n",
       " ('only', 2.252762968495368),\n",
       " ('original', 2.252762968495368),\n",
       " ('other', 2.252762968495368),\n",
       " ('own', 2.252762968495368),\n",
       " ('person', 2.252762968495368),\n",
       " ('place', 2.252762968495368),\n",
       " ('planets', 2.252762968495368),\n",
       " ('poor', 2.252762968495368),\n",
       " ('prayer', 2.252762968495368),\n",
       " ('report', 2.252762968495368),\n",
       " ('say', 2.252762968495368),\n",
       " ('showing', 2.252762968495368),\n",
       " ('space', 2.252762968495368),\n",
       " ('spins', 2.252762968495368),\n",
       " ('steps', 2.252762968495368),\n",
       " ('tape', 2.252762968495368),\n",
       " ('thank', 2.252762968495368),\n",
       " ('that', 2.252762968495368),\n",
       " ('the', 1.336472236621213),\n",
       " ('their', 1.8472978603872037),\n",
       " ('them', 1.8472978603872037),\n",
       " ('then', 2.252762968495368),\n",
       " ('they', 2.252762968495368),\n",
       " ('throughout', 2.252762968495368),\n",
       " ('to', 1.336472236621213),\n",
       " ('together', 2.252762968495368),\n",
       " ('two', 2.252762968495368),\n",
       " ('venus', 2.252762968495368),\n",
       " ('wait', 2.252762968495368),\n",
       " ('way', 2.252762968495368),\n",
       " ('welding', 2.252762968495368),\n",
       " ('who', 2.252762968495368),\n",
       " ('will', 1.8472978603872037),\n",
       " ('works', 2.252762968495368),\n",
       " ('worth', 2.252762968495368),\n",
       " ('wrong', 2.252762968495368),\n",
       " ('you', 1.5596157879354227),\n",
       " ('your', 2.252762968495368)]"
      ]
     },
     "execution_count": 43,
     "metadata": {},
     "output_type": "execute_result"
    }
   ],
   "source": [
    "list(zip(tfidf_vectorizer.get_feature_names_out(), tfidf_vectorizer.idf_))"
   ]
  },
  {
   "cell_type": "code",
   "execution_count": 44,
   "id": "59170dd5-186f-4b7e-93ea-548647f7c1b2",
   "metadata": {},
   "outputs": [
    {
     "data": {
      "text/plain": [
       "[array(['enough', 'be', 'will', 'that', 'then', 'thank', 'is', 'life',\n",
       "        'your', 'throughout', 'say', 'you', 'prayer', 'only', 'the', 'if'],\n",
       "       dtype='<U10'),\n",
       " array(['matters', 'who', 'one', 'worth', 'their', 'them', 'showing',\n",
       "        'divine', 'but', 'helpless', 'and', 'poor', 'to', 'giving',\n",
       "        'works', 'good', 'is', 'the'], dtype='<U10'),\n",
       " array(['report', 'person', 'missing', 'file', 'hours', '24', 'wait',\n",
       "        'need', 'dont', 'to', 'you'], dtype='<U10'),\n",
       " array(['planets', 'other', 'compared', 'way', 'wrong', 'spins', 'venus',\n",
       "        'to', 'the'], dtype='<U10'),\n",
       " array(['moon', 'on', 'steps', 'first', 'of', 'tape', 'original', 'erased',\n",
       "        'mistakenly', 'nasa', 'the'], dtype='<U10'),\n",
       " array(['together', 'close', 'place', 'own', 'it', 'do', 'they', 'fuse',\n",
       "        'metals', 'two', 'get', 'materials', 'welding', 'space', 'in',\n",
       "        'on', 'need', 'dont', 'their', 'them', 'to', 'enough', 'will',\n",
       "        'you', 'if'], dtype='<U10')]"
      ]
     },
     "execution_count": 44,
     "metadata": {},
     "output_type": "execute_result"
    }
   ],
   "source": [
    "tfidf_vectorizer.inverse_transform(transformed_vector)"
   ]
  },
  {
   "cell_type": "markdown",
   "id": "0b66894b-f43f-47a6-8a87-645ce491d45d",
   "metadata": {},
   "source": [
    "# Bag of N-Grams Approach"
   ]
  },
  {
   "cell_type": "markdown",
   "id": "b1a843d0-0d4d-433a-aade-03a7fce0354e",
   "metadata": {},
   "source": [
    "## Count Vectorizer"
   ]
  },
  {
   "cell_type": "code",
   "execution_count": 17,
   "id": "81ab4005-d21e-41c5-8b6b-db8663320e10",
   "metadata": {},
   "outputs": [],
   "source": [
    "from sklearn.feature_extraction.text import CountVectorizer"
   ]
  },
  {
   "cell_type": "code",
   "execution_count": 26,
   "id": "a7a39856-fadf-4150-afd5-468e0d7430f7",
   "metadata": {},
   "outputs": [],
   "source": [
    "train_text = ['If the only prayer you say throughout your life is \"Thank You,\" then that will be enough.',\n",
    "              'Good works is giving to the poor and the helpless, but divine works is showing them their worth to the One who matters.',\n",
    "              'You dont need to wait 24 hours to file a missing person report.',\n",
    "              'Venus spins the wrong way compared to other planets.',\n",
    "              'NASA mistakenly erased the original tape of the first steps on the moon.',\n",
    "              'In space, you dont need welding materials to get two metals to fuse. They will do it on their own if you place them close enough together.']\n",
    "\n",
    "ngram_vectorizer = CountVectorizer(ngram_range=(1,2))"
   ]
  },
  {
   "cell_type": "code",
   "execution_count": 27,
   "id": "1e3e10c4-231c-4ee3-9538-26f93a646157",
   "metadata": {},
   "outputs": [],
   "source": [
    "transformed_vector = ngram_vectorizer.fit_transform(train_text)"
   ]
  },
  {
   "cell_type": "code",
   "execution_count": 28,
   "id": "f301b3a8-5f40-468d-8034-9f9aee672cea",
   "metadata": {},
   "outputs": [
    {
     "data": {
      "text/plain": [
       "{'if': 38,\n",
       " 'the': 107,\n",
       " 'only': 73,\n",
       " 'prayer': 88,\n",
       " 'you': 157,\n",
       " 'say': 91,\n",
       " 'throughout': 126,\n",
       " 'your': 162,\n",
       " 'life': 49,\n",
       " 'is': 43,\n",
       " 'thank': 103,\n",
       " 'then': 122,\n",
       " 'that': 105,\n",
       " 'will': 148,\n",
       " 'be': 4,\n",
       " 'enough': 18,\n",
       " 'if the': 39,\n",
       " 'the only': 112,\n",
       " 'only prayer': 74,\n",
       " 'prayer you': 89,\n",
       " 'you say': 160,\n",
       " 'say throughout': 92,\n",
       " 'throughout your': 127,\n",
       " 'your life': 163,\n",
       " 'life is': 50,\n",
       " 'is thank': 46,\n",
       " 'thank you': 104,\n",
       " 'you then': 161,\n",
       " 'then that': 123,\n",
       " 'that will': 106,\n",
       " 'will be': 149,\n",
       " 'be enough': 5,\n",
       " 'good': 32,\n",
       " 'works': 151,\n",
       " 'giving': 30,\n",
       " 'to': 128,\n",
       " 'poor': 86,\n",
       " 'and': 2,\n",
       " 'helpless': 34,\n",
       " 'but': 6,\n",
       " 'divine': 12,\n",
       " 'showing': 93,\n",
       " 'them': 119,\n",
       " 'their': 116,\n",
       " 'worth': 153,\n",
       " 'one': 71,\n",
       " 'who': 146,\n",
       " 'matters': 53,\n",
       " 'good works': 33,\n",
       " 'works is': 152,\n",
       " 'is giving': 44,\n",
       " 'giving to': 31,\n",
       " 'to the': 133,\n",
       " 'the poor': 114,\n",
       " 'poor and': 87,\n",
       " 'and the': 3,\n",
       " 'the helpless': 109,\n",
       " 'helpless but': 35,\n",
       " 'but divine': 7,\n",
       " 'divine works': 13,\n",
       " 'is showing': 45,\n",
       " 'showing them': 94,\n",
       " 'them their': 121,\n",
       " 'their worth': 118,\n",
       " 'worth to': 154,\n",
       " 'the one': 111,\n",
       " 'one who': 72,\n",
       " 'who matters': 147,\n",
       " 'dont': 16,\n",
       " 'need': 63,\n",
       " 'wait': 140,\n",
       " '24': 0,\n",
       " 'hours': 36,\n",
       " 'file': 22,\n",
       " 'missing': 56,\n",
       " 'person': 81,\n",
       " 'report': 90,\n",
       " 'you dont': 158,\n",
       " 'dont need': 17,\n",
       " 'need to': 64,\n",
       " 'to wait': 134,\n",
       " 'wait 24': 141,\n",
       " '24 hours': 1,\n",
       " 'hours to': 37,\n",
       " 'to file': 129,\n",
       " 'file missing': 23,\n",
       " 'missing person': 57,\n",
       " 'person report': 82,\n",
       " 'venus': 138,\n",
       " 'spins': 97,\n",
       " 'wrong': 155,\n",
       " 'way': 142,\n",
       " 'compared': 10,\n",
       " 'other': 77,\n",
       " 'planets': 85,\n",
       " 'venus spins': 139,\n",
       " 'spins the': 98,\n",
       " 'the wrong': 115,\n",
       " 'wrong way': 156,\n",
       " 'way compared': 143,\n",
       " 'compared to': 11,\n",
       " 'to other': 132,\n",
       " 'other planets': 78,\n",
       " 'nasa': 61,\n",
       " 'mistakenly': 58,\n",
       " 'erased': 20,\n",
       " 'original': 75,\n",
       " 'tape': 101,\n",
       " 'of': 66,\n",
       " 'first': 24,\n",
       " 'steps': 99,\n",
       " 'on': 68,\n",
       " 'moon': 60,\n",
       " 'nasa mistakenly': 62,\n",
       " 'mistakenly erased': 59,\n",
       " 'erased the': 21,\n",
       " 'the original': 113,\n",
       " 'original tape': 76,\n",
       " 'tape of': 102,\n",
       " 'of the': 67,\n",
       " 'the first': 108,\n",
       " 'first steps': 25,\n",
       " 'steps on': 100,\n",
       " 'on the': 69,\n",
       " 'the moon': 110,\n",
       " 'in': 41,\n",
       " 'space': 95,\n",
       " 'welding': 144,\n",
       " 'materials': 51,\n",
       " 'get': 28,\n",
       " 'two': 136,\n",
       " 'metals': 54,\n",
       " 'fuse': 26,\n",
       " 'they': 124,\n",
       " 'do': 14,\n",
       " 'it': 47,\n",
       " 'own': 79,\n",
       " 'place': 83,\n",
       " 'close': 8,\n",
       " 'together': 135,\n",
       " 'in space': 42,\n",
       " 'space you': 96,\n",
       " 'need welding': 65,\n",
       " 'welding materials': 145,\n",
       " 'materials to': 52,\n",
       " 'to get': 131,\n",
       " 'get two': 29,\n",
       " 'two metals': 137,\n",
       " 'metals to': 55,\n",
       " 'to fuse': 130,\n",
       " 'fuse they': 27,\n",
       " 'they will': 125,\n",
       " 'will do': 150,\n",
       " 'do it': 15,\n",
       " 'it on': 48,\n",
       " 'on their': 70,\n",
       " 'their own': 117,\n",
       " 'own if': 80,\n",
       " 'if you': 40,\n",
       " 'you place': 159,\n",
       " 'place them': 84,\n",
       " 'them close': 120,\n",
       " 'close enough': 9,\n",
       " 'enough together': 19}"
      ]
     },
     "execution_count": 28,
     "metadata": {},
     "output_type": "execute_result"
    }
   ],
   "source": [
    "ngram_vectorizer.vocabulary_"
   ]
  },
  {
   "cell_type": "code",
   "execution_count": 29,
   "id": "a9e6b6f1-507d-47fd-a34c-712b9baa3359",
   "metadata": {},
   "outputs": [
    {
     "data": {
      "text/plain": [
       "array(['24', '24 hours', 'and', 'and the', 'be', 'be enough', 'but',\n",
       "       'but divine', 'close', 'close enough', 'compared', 'compared to',\n",
       "       'divine', 'divine works', 'do', 'do it', 'dont', 'dont need',\n",
       "       'enough', 'enough together', 'erased', 'erased the', 'file',\n",
       "       'file missing', 'first', 'first steps', 'fuse', 'fuse they', 'get',\n",
       "       'get two', 'giving', 'giving to', 'good', 'good works', 'helpless',\n",
       "       'helpless but', 'hours', 'hours to', 'if', 'if the', 'if you',\n",
       "       'in', 'in space', 'is', 'is giving', 'is showing', 'is thank',\n",
       "       'it', 'it on', 'life', 'life is', 'materials', 'materials to',\n",
       "       'matters', 'metals', 'metals to', 'missing', 'missing person',\n",
       "       'mistakenly', 'mistakenly erased', 'moon', 'nasa',\n",
       "       'nasa mistakenly', 'need', 'need to', 'need welding', 'of',\n",
       "       'of the', 'on', 'on the', 'on their', 'one', 'one who', 'only',\n",
       "       'only prayer', 'original', 'original tape', 'other',\n",
       "       'other planets', 'own', 'own if', 'person', 'person report',\n",
       "       'place', 'place them', 'planets', 'poor', 'poor and', 'prayer',\n",
       "       'prayer you', 'report', 'say', 'say throughout', 'showing',\n",
       "       'showing them', 'space', 'space you', 'spins', 'spins the',\n",
       "       'steps', 'steps on', 'tape', 'tape of', 'thank', 'thank you',\n",
       "       'that', 'that will', 'the', 'the first', 'the helpless',\n",
       "       'the moon', 'the one', 'the only', 'the original', 'the poor',\n",
       "       'the wrong', 'their', 'their own', 'their worth', 'them',\n",
       "       'them close', 'them their', 'then', 'then that', 'they',\n",
       "       'they will', 'throughout', 'throughout your', 'to', 'to file',\n",
       "       'to fuse', 'to get', 'to other', 'to the', 'to wait', 'together',\n",
       "       'two', 'two metals', 'venus', 'venus spins', 'wait', 'wait 24',\n",
       "       'way', 'way compared', 'welding', 'welding materials', 'who',\n",
       "       'who matters', 'will', 'will be', 'will do', 'works', 'works is',\n",
       "       'worth', 'worth to', 'wrong', 'wrong way', 'you', 'you dont',\n",
       "       'you place', 'you say', 'you then', 'your', 'your life'],\n",
       "      dtype=object)"
      ]
     },
     "execution_count": 29,
     "metadata": {},
     "output_type": "execute_result"
    }
   ],
   "source": [
    "ngram_vectorizer.get_feature_names_out()"
   ]
  },
  {
   "cell_type": "code",
   "execution_count": 30,
   "id": "8c6e7731-a759-4787-b22b-314d6bcc9c75",
   "metadata": {},
   "outputs": [
    {
     "data": {
      "text/plain": [
       "array([[0, 0, 0, 0, 1, 1, 0, 0, 0, 0, 0, 0, 0, 0, 0, 0, 0, 0, 1, 0, 0, 0,\n",
       "        0, 0, 0, 0, 0, 0, 0, 0, 0, 0, 0, 0, 0, 0, 0, 0, 1, 1, 0, 0, 0, 1,\n",
       "        0, 0, 1, 0, 0, 1, 1, 0, 0, 0, 0, 0, 0, 0, 0, 0, 0, 0, 0, 0, 0, 0,\n",
       "        0, 0, 0, 0, 0, 0, 0, 1, 1, 0, 0, 0, 0, 0, 0, 0, 0, 0, 0, 0, 0, 0,\n",
       "        1, 1, 0, 1, 1, 0, 0, 0, 0, 0, 0, 0, 0, 0, 0, 1, 1, 1, 1, 1, 0, 0,\n",
       "        0, 0, 1, 0, 0, 0, 0, 0, 0, 0, 0, 0, 1, 1, 0, 0, 1, 1, 0, 0, 0, 0,\n",
       "        0, 0, 0, 0, 0, 0, 0, 0, 0, 0, 0, 0, 0, 0, 0, 0, 1, 1, 0, 0, 0, 0,\n",
       "        0, 0, 0, 2, 0, 0, 1, 1, 1, 1],\n",
       "       [0, 0, 1, 1, 0, 0, 1, 1, 0, 0, 0, 0, 1, 1, 0, 0, 0, 0, 0, 0, 0, 0,\n",
       "        0, 0, 0, 0, 0, 0, 0, 0, 1, 1, 1, 1, 1, 1, 0, 0, 0, 0, 0, 0, 0, 2,\n",
       "        1, 1, 0, 0, 0, 0, 0, 0, 0, 1, 0, 0, 0, 0, 0, 0, 0, 0, 0, 0, 0, 0,\n",
       "        0, 0, 0, 0, 0, 1, 1, 0, 0, 0, 0, 0, 0, 0, 0, 0, 0, 0, 0, 0, 1, 1,\n",
       "        0, 0, 0, 0, 0, 1, 1, 0, 0, 0, 0, 0, 0, 0, 0, 0, 0, 0, 0, 3, 0, 1,\n",
       "        0, 1, 0, 0, 1, 0, 1, 0, 1, 1, 0, 1, 0, 0, 0, 0, 0, 0, 2, 0, 0, 0,\n",
       "        0, 2, 0, 0, 0, 0, 0, 0, 0, 0, 0, 0, 0, 0, 1, 1, 0, 0, 0, 2, 2, 1,\n",
       "        1, 0, 0, 0, 0, 0, 0, 0, 0, 0],\n",
       "       [1, 1, 0, 0, 0, 0, 0, 0, 0, 0, 0, 0, 0, 0, 0, 0, 1, 1, 0, 0, 0, 0,\n",
       "        1, 1, 0, 0, 0, 0, 0, 0, 0, 0, 0, 0, 0, 0, 1, 1, 0, 0, 0, 0, 0, 0,\n",
       "        0, 0, 0, 0, 0, 0, 0, 0, 0, 0, 0, 0, 1, 1, 0, 0, 0, 0, 0, 1, 1, 0,\n",
       "        0, 0, 0, 0, 0, 0, 0, 0, 0, 0, 0, 0, 0, 0, 0, 1, 1, 0, 0, 0, 0, 0,\n",
       "        0, 0, 1, 0, 0, 0, 0, 0, 0, 0, 0, 0, 0, 0, 0, 0, 0, 0, 0, 0, 0, 0,\n",
       "        0, 0, 0, 0, 0, 0, 0, 0, 0, 0, 0, 0, 0, 0, 0, 0, 0, 0, 2, 1, 0, 0,\n",
       "        0, 0, 1, 0, 0, 0, 0, 0, 1, 1, 0, 0, 0, 0, 0, 0, 0, 0, 0, 0, 0, 0,\n",
       "        0, 0, 0, 1, 1, 0, 0, 0, 0, 0],\n",
       "       [0, 0, 0, 0, 0, 0, 0, 0, 0, 0, 1, 1, 0, 0, 0, 0, 0, 0, 0, 0, 0, 0,\n",
       "        0, 0, 0, 0, 0, 0, 0, 0, 0, 0, 0, 0, 0, 0, 0, 0, 0, 0, 0, 0, 0, 0,\n",
       "        0, 0, 0, 0, 0, 0, 0, 0, 0, 0, 0, 0, 0, 0, 0, 0, 0, 0, 0, 0, 0, 0,\n",
       "        0, 0, 0, 0, 0, 0, 0, 0, 0, 0, 0, 1, 1, 0, 0, 0, 0, 0, 0, 1, 0, 0,\n",
       "        0, 0, 0, 0, 0, 0, 0, 0, 0, 1, 1, 0, 0, 0, 0, 0, 0, 0, 0, 1, 0, 0,\n",
       "        0, 0, 0, 0, 0, 1, 0, 0, 0, 0, 0, 0, 0, 0, 0, 0, 0, 0, 1, 0, 0, 0,\n",
       "        1, 0, 0, 0, 0, 0, 1, 1, 0, 0, 1, 1, 0, 0, 0, 0, 0, 0, 0, 0, 0, 0,\n",
       "        0, 1, 1, 0, 0, 0, 0, 0, 0, 0],\n",
       "       [0, 0, 0, 0, 0, 0, 0, 0, 0, 0, 0, 0, 0, 0, 0, 0, 0, 0, 0, 0, 1, 1,\n",
       "        0, 0, 1, 1, 0, 0, 0, 0, 0, 0, 0, 0, 0, 0, 0, 0, 0, 0, 0, 0, 0, 0,\n",
       "        0, 0, 0, 0, 0, 0, 0, 0, 0, 0, 0, 0, 0, 0, 1, 1, 1, 1, 1, 0, 0, 0,\n",
       "        1, 1, 1, 1, 0, 0, 0, 0, 0, 1, 1, 0, 0, 0, 0, 0, 0, 0, 0, 0, 0, 0,\n",
       "        0, 0, 0, 0, 0, 0, 0, 0, 0, 0, 0, 1, 1, 1, 1, 0, 0, 0, 0, 3, 1, 0,\n",
       "        1, 0, 0, 1, 0, 0, 0, 0, 0, 0, 0, 0, 0, 0, 0, 0, 0, 0, 0, 0, 0, 0,\n",
       "        0, 0, 0, 0, 0, 0, 0, 0, 0, 0, 0, 0, 0, 0, 0, 0, 0, 0, 0, 0, 0, 0,\n",
       "        0, 0, 0, 0, 0, 0, 0, 0, 0, 0],\n",
       "       [0, 0, 0, 0, 0, 0, 0, 0, 1, 1, 0, 0, 0, 0, 1, 1, 1, 1, 1, 1, 0, 0,\n",
       "        0, 0, 0, 0, 1, 1, 1, 1, 0, 0, 0, 0, 0, 0, 0, 0, 1, 0, 1, 1, 1, 0,\n",
       "        0, 0, 0, 1, 1, 0, 0, 1, 1, 0, 1, 1, 0, 0, 0, 0, 0, 0, 0, 1, 0, 1,\n",
       "        0, 0, 1, 0, 1, 0, 0, 0, 0, 0, 0, 0, 0, 1, 1, 0, 0, 1, 1, 0, 0, 0,\n",
       "        0, 0, 0, 0, 0, 0, 0, 1, 1, 0, 0, 0, 0, 0, 0, 0, 0, 0, 0, 0, 0, 0,\n",
       "        0, 0, 0, 0, 0, 0, 1, 1, 0, 1, 1, 0, 0, 0, 1, 1, 0, 0, 2, 0, 1, 1,\n",
       "        0, 0, 0, 1, 1, 1, 0, 0, 0, 0, 0, 0, 1, 1, 0, 0, 1, 0, 1, 0, 0, 0,\n",
       "        0, 0, 0, 2, 1, 1, 0, 0, 0, 0]])"
      ]
     },
     "execution_count": 30,
     "metadata": {},
     "output_type": "execute_result"
    }
   ],
   "source": [
    "transformed_vector.toarray()"
   ]
  },
  {
   "cell_type": "code",
   "execution_count": 31,
   "id": "abd9323c-00cc-494a-a17e-d08a93f3ecf7",
   "metadata": {},
   "outputs": [
    {
     "data": {
      "text/plain": [
       "(6, 164)"
      ]
     },
     "execution_count": 31,
     "metadata": {},
     "output_type": "execute_result"
    }
   ],
   "source": [
    "transformed_vector.toarray().shape"
   ]
  },
  {
   "cell_type": "code",
   "execution_count": 32,
   "id": "a549f145-bfa6-4382-8ad8-b317256d011a",
   "metadata": {},
   "outputs": [
    {
     "data": {
      "text/plain": [
       "[array(['if', 'the', 'only', 'prayer', 'you', 'say', 'throughout', 'your',\n",
       "        'life', 'is', 'thank', 'then', 'that', 'will', 'be', 'enough',\n",
       "        'if the', 'the only', 'only prayer', 'prayer you', 'you say',\n",
       "        'say throughout', 'throughout your', 'your life', 'life is',\n",
       "        'is thank', 'thank you', 'you then', 'then that', 'that will',\n",
       "        'will be', 'be enough'], dtype='<U17'),\n",
       " array(['the', 'is', 'good', 'works', 'giving', 'to', 'poor', 'and',\n",
       "        'helpless', 'but', 'divine', 'showing', 'them', 'their', 'worth',\n",
       "        'one', 'who', 'matters', 'good works', 'works is', 'is giving',\n",
       "        'giving to', 'to the', 'the poor', 'poor and', 'and the',\n",
       "        'the helpless', 'helpless but', 'but divine', 'divine works',\n",
       "        'is showing', 'showing them', 'them their', 'their worth',\n",
       "        'worth to', 'the one', 'one who', 'who matters'], dtype='<U17'),\n",
       " array(['you', 'to', 'dont', 'need', 'wait', '24', 'hours', 'file',\n",
       "        'missing', 'person', 'report', 'you dont', 'dont need', 'need to',\n",
       "        'to wait', 'wait 24', '24 hours', 'hours to', 'to file',\n",
       "        'file missing', 'missing person', 'person report'], dtype='<U17'),\n",
       " array(['the', 'to', 'venus', 'spins', 'wrong', 'way', 'compared', 'other',\n",
       "        'planets', 'venus spins', 'spins the', 'the wrong', 'wrong way',\n",
       "        'way compared', 'compared to', 'to other', 'other planets'],\n",
       "       dtype='<U17'),\n",
       " array(['the', 'nasa', 'mistakenly', 'erased', 'original', 'tape', 'of',\n",
       "        'first', 'steps', 'on', 'moon', 'nasa mistakenly',\n",
       "        'mistakenly erased', 'erased the', 'the original', 'original tape',\n",
       "        'tape of', 'of the', 'the first', 'first steps', 'steps on',\n",
       "        'on the', 'the moon'], dtype='<U17'),\n",
       " array(['if', 'you', 'will', 'enough', 'to', 'them', 'their', 'dont',\n",
       "        'need', 'you dont', 'dont need', 'on', 'in', 'space', 'welding',\n",
       "        'materials', 'get', 'two', 'metals', 'fuse', 'they', 'do', 'it',\n",
       "        'own', 'place', 'close', 'together', 'in space', 'space you',\n",
       "        'need welding', 'welding materials', 'materials to', 'to get',\n",
       "        'get two', 'two metals', 'metals to', 'to fuse', 'fuse they',\n",
       "        'they will', 'will do', 'do it', 'it on', 'on their', 'their own',\n",
       "        'own if', 'if you', 'you place', 'place them', 'them close',\n",
       "        'close enough', 'enough together'], dtype='<U17')]"
      ]
     },
     "execution_count": 32,
     "metadata": {},
     "output_type": "execute_result"
    }
   ],
   "source": [
    "ngram_vectorizer.inverse_transform(transformed_vector)"
   ]
  },
  {
   "cell_type": "markdown",
   "id": "a1bdb63e-a153-49e5-a094-7eb16b027718",
   "metadata": {},
   "source": [
    " # Hashing Vectorizer"
   ]
  },
  {
   "cell_type": "code",
   "execution_count": 49,
   "id": "d43eaf50-17ea-421f-bb13-42fec8d8c5e6",
   "metadata": {},
   "outputs": [],
   "source": [
    "train_text = ['If the only prayer you say throughout your life is \"Thank You,\" then that will be enough.',\n",
    "              'Good works is giving to the poor and the helpless, but divine works is showing them their worth to the One who matters.',\n",
    "              'You dont need to wait 24 hours to file a missing person report.',\n",
    "              'Venus spins the wrong way compared to other planets.',\n",
    "              'NASA mistakenly erased the original tape of the first steps on the moon.',\n",
    "              'In space, you dont need welding materials to get two metals to fuse. They will do it on their own if you place them close enough together.']"
   ]
  },
  {
   "cell_type": "code",
   "execution_count": 50,
   "id": "831f10d9-fc85-4328-bbff-1e9b8d5eb5aa",
   "metadata": {},
   "outputs": [
    {
     "data": {
      "text/plain": [
       "(6, 8)"
      ]
     },
     "execution_count": 50,
     "metadata": {},
     "output_type": "execute_result"
    }
   ],
   "source": [
    "from sklearn.feature_extraction.text import HashingVectorizer\n",
    "\n",
    "hashvectorizer = HashingVectorizer(n_features=8,\n",
    "                                   norm=None)\n",
    "\n",
    "hash_vector = hashvectorizer.transform(train_text)\n",
    "\n",
    "hash_vector.shape"
   ]
  },
  {
   "cell_type": "code",
   "execution_count": 51,
   "id": "0270bcb7-00a1-41d5-8225-6fa1c3eac9a0",
   "metadata": {},
   "outputs": [
    {
     "data": {
      "text/plain": [
       "array([[ 0.,  1.,  1.,  1.,  2.,  2., -3., -1.],\n",
       "       [ 0.,  1.,  0.,  3.,  0.,  0., -3.,  0.],\n",
       "       [-2., -1., -1.,  3.,  0., -1.,  0.,  0.],\n",
       "       [-1., -1.,  0.,  1.,  1.,  0., -2.,  1.],\n",
       "       [-1., -1.,  1.,  0.,  1.,  0., -4.,  1.],\n",
       "       [ 0.,  1.,  0.,  2.,  1.,  3.,  8., -2.]])"
      ]
     },
     "execution_count": 51,
     "metadata": {},
     "output_type": "execute_result"
    }
   ],
   "source": [
    "hash_vector.toarray()"
   ]
  },
  {
   "cell_type": "code",
   "execution_count": 52,
   "id": "39a337c8-e121-4edd-a254-6d7a91e59a17",
   "metadata": {},
   "outputs": [
    {
     "data": {
      "text/plain": [
       "(6, 8)"
      ]
     },
     "execution_count": 52,
     "metadata": {},
     "output_type": "execute_result"
    }
   ],
   "source": [
    "hashvectorizer = HashingVectorizer(n_features=8,\n",
    "                                   norm='l1')\n",
    "\n",
    "hash_vector = hashvectorizer.transform(train_text)\n",
    "\n",
    "hash_vector.shape"
   ]
  },
  {
   "cell_type": "code",
   "execution_count": 53,
   "id": "1ee1f1c9-227e-42e9-9b69-90af9e6f490d",
   "metadata": {},
   "outputs": [
    {
     "data": {
      "text/plain": [
       "array([[ 0.        ,  0.09090909,  0.09090909,  0.09090909,  0.18181818,\n",
       "         0.18181818, -0.27272727, -0.09090909],\n",
       "       [ 0.        ,  0.14285714,  0.        ,  0.42857143,  0.        ,\n",
       "         0.        , -0.42857143,  0.        ],\n",
       "       [-0.25      , -0.125     , -0.125     ,  0.375     ,  0.        ,\n",
       "        -0.125     ,  0.        ,  0.        ],\n",
       "       [-0.14285714, -0.14285714,  0.        ,  0.14285714,  0.14285714,\n",
       "         0.        , -0.28571429,  0.14285714],\n",
       "       [-0.11111111, -0.11111111,  0.11111111,  0.        ,  0.11111111,\n",
       "         0.        , -0.44444444,  0.11111111],\n",
       "       [ 0.        ,  0.05882353,  0.        ,  0.11764706,  0.05882353,\n",
       "         0.17647059,  0.47058824, -0.11764706]])"
      ]
     },
     "execution_count": 53,
     "metadata": {},
     "output_type": "execute_result"
    }
   ],
   "source": [
    "hash_vector.toarray()"
   ]
  },
  {
   "cell_type": "code",
   "execution_count": null,
   "id": "993aa913-8ebb-43b0-931e-1d2505c25fa0",
   "metadata": {},
   "outputs": [],
   "source": []
  }
 ],
 "metadata": {
  "kernelspec": {
   "display_name": "scilib",
   "language": "python",
   "name": "scilib"
  },
  "language_info": {
   "codemirror_mode": {
    "name": "ipython",
    "version": 3
   },
   "file_extension": ".py",
   "mimetype": "text/x-python",
   "name": "python",
   "nbconvert_exporter": "python",
   "pygments_lexer": "ipython3",
   "version": "3.11.4"
  }
 },
 "nbformat": 4,
 "nbformat_minor": 5
}
